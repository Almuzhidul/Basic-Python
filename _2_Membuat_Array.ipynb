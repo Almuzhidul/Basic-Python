{
  "nbformat": 4,
  "nbformat_minor": 0,
  "metadata": {
    "colab": {
      "provenance": [],
      "authorship_tag": "ABX9TyNrjdLByHq6dkecHkiEmieB",
      "include_colab_link": true
    },
    "kernelspec": {
      "name": "python3",
      "display_name": "Python 3"
    },
    "language_info": {
      "name": "python"
    }
  },
  "cells": [
    {
      "cell_type": "markdown",
      "metadata": {
        "id": "view-in-github",
        "colab_type": "text"
      },
      "source": [
        "<a href=\"https://colab.research.google.com/github/Almuzhidul/Basic-Python/blob/main/_2_Membuat_Array.ipynb\" target=\"_parent\"><img src=\"https://colab.research.google.com/assets/colab-badge.svg\" alt=\"Open In Colab\"/></a>"
      ]
    },
    {
      "cell_type": "code",
      "execution_count": 1,
      "metadata": {
        "id": "jr2E_yrWtDu8"
      },
      "outputs": [],
      "source": [
        "import numpy as np"
      ]
    },
    {
      "cell_type": "markdown",
      "source": [
        "##**Create an array from an iterable**\n",
        "Such as\n",
        "- list\n",
        "- tuple\n",
        "- range iterator\n",
        "\n",
        "Notice that not all iterables can be used to create a numpy array, such as ```set``` and ```dict```"
      ],
      "metadata": {
        "id": "_qH3YB22tVRR"
      }
    },
    {
      "cell_type": "code",
      "source": [
        "arr = np.array([1,2,3,4,5])\n",
        "print(arr)"
      ],
      "metadata": {
        "colab": {
          "base_uri": "https://localhost:8080/"
        },
        "id": "xJloK_vHtNlU",
        "outputId": "573d6c11-0abb-497a-fa5f-3fa4eae9a665"
      },
      "execution_count": 2,
      "outputs": [
        {
          "output_type": "stream",
          "name": "stdout",
          "text": [
            "[1 2 3 4 5]\n"
          ]
        }
      ]
    },
    {
      "cell_type": "code",
      "source": [
        "arr = np.array((1,2,3,4,5))\n",
        "print(arr)"
      ],
      "metadata": {
        "colab": {
          "base_uri": "https://localhost:8080/"
        },
        "id": "toiUG9bltq5O",
        "outputId": "2d2f0dfa-bf9e-4f5c-8b22-6c0e301b77e6"
      },
      "execution_count": 3,
      "outputs": [
        {
          "output_type": "stream",
          "name": "stdout",
          "text": [
            "[1 2 3 4 5]\n"
          ]
        }
      ]
    },
    {
      "cell_type": "code",
      "source": [
        "arr = np.array(range(10))\n",
        "print(arr)"
      ],
      "metadata": {
        "colab": {
          "base_uri": "https://localhost:8080/"
        },
        "id": "ZNfxeclPtskW",
        "outputId": "dd1fe431-a0d2-47c2-e1ba-6be89ac0cd6c"
      },
      "execution_count": 4,
      "outputs": [
        {
          "output_type": "stream",
          "name": "stdout",
          "text": [
            "[0 1 2 3 4 5 6 7 8 9]\n"
          ]
        }
      ]
    },
    {
      "cell_type": "markdown",
      "source": [
        "##**Create an array with specified data type**"
      ],
      "metadata": {
        "id": "UcIC-QWytw_I"
      }
    },
    {
      "cell_type": "code",
      "source": [
        "arr = np.array([[1,2,3], [4,5,6]], dtype='i2')\n",
        "print(arr)\n",
        "print('Data Type: ' + str(arr.dtype))"
      ],
      "metadata": {
        "colab": {
          "base_uri": "https://localhost:8080/"
        },
        "id": "l0PI6TKttuRP",
        "outputId": "950dbdbc-31d6-40b1-9ba7-a2931cbc76fb"
      },
      "execution_count": 5,
      "outputs": [
        {
          "output_type": "stream",
          "name": "stdout",
          "text": [
            "[[1 2 3]\n",
            " [4 5 6]]\n",
            "Data Type: int16\n"
          ]
        }
      ]
    },
    {
      "cell_type": "markdown",
      "source": [
        "##**Create an aray within specified range**\n",
        "```np.arange()``` method can be used to replace ```np.array(range())``` method"
      ],
      "metadata": {
        "id": "2SSsE2HWt3Oi"
      }
    },
    {
      "cell_type": "code",
      "source": [
        "# np.arange(start, stop, step)\n",
        "arr = np.arange(0, 20, 2)\n",
        "print(arr)"
      ],
      "metadata": {
        "colab": {
          "base_uri": "https://localhost:8080/"
        },
        "id": "f8QHyhWot1Mf",
        "outputId": "e86910f2-047d-4299-ccda-ba3cad266485"
      },
      "execution_count": 6,
      "outputs": [
        {
          "output_type": "stream",
          "name": "stdout",
          "text": [
            "[ 0  2  4  6  8 10 12 14 16 18]\n"
          ]
        }
      ]
    },
    {
      "cell_type": "markdown",
      "source": [
        "##**Create an array of evenly spaced numbers within specified range**\n",
        "```np.linspace(start, stop, num_of_elements, endpoint=True, retstep=False)``` has 5 parameters:\n",
        "- ```start```: start number (inclusive)\n",
        "- ```stop```: end number (inclusive unless endpoint set to False)\n",
        "- ```num_of_elements```: number of elements contained in the array\n",
        "- ```endpoint```: boolean value representing whether the stop number is inclusive or not\n",
        "-```retstep```: boolean value representing whether to return the step size"
      ],
      "metadata": {
        "id": "RckziMtzuFRE"
      }
    },
    {
      "cell_type": "code",
      "source": [
        "arr, step_size = np.linspace(0, 5, 8, endpoint=False, retstep=True)\n",
        "print(arr)\n",
        "print('The step size is ' + str(step_size))"
      ],
      "metadata": {
        "colab": {
          "base_uri": "https://localhost:8080/"
        },
        "id": "MubhvyFjuDN7",
        "outputId": "be5d15cf-225a-467d-a751-0ccb4b1f8ef7"
      },
      "execution_count": 7,
      "outputs": [
        {
          "output_type": "stream",
          "name": "stdout",
          "text": [
            "[0.    0.625 1.25  1.875 2.5   3.125 3.75  4.375]\n",
            "The step size is 0.625\n"
          ]
        }
      ]
    },
    {
      "cell_type": "markdown",
      "source": [
        "##**Create an array of random values of given shape**\n",
        "```np.random.rand()``` method returns values in the range [0,1)"
      ],
      "metadata": {
        "id": "vEZJ4aF3udQP"
      }
    },
    {
      "cell_type": "code",
      "source": [
        "arr = np.random.rand(3, 3)\n",
        "print(arr)"
      ],
      "metadata": {
        "colab": {
          "base_uri": "https://localhost:8080/"
        },
        "id": "5KXuCLjIubHl",
        "outputId": "f47111d0-1d8d-494e-9d8d-66484518bac0"
      },
      "execution_count": 8,
      "outputs": [
        {
          "output_type": "stream",
          "name": "stdout",
          "text": [
            "[[0.30250526 0.68496833 0.37219406]\n",
            " [0.11002881 0.96718914 0.77895721]\n",
            " [0.80202246 0.08534571 0.71111999]]\n"
          ]
        }
      ]
    },
    {
      "cell_type": "markdown",
      "source": [
        "##**Create an array of zeros of given shape**\n",
        "- ```np.zeros()```: create array of all zeros in given shape\n",
        "-```np.zeros_like()```: create array of all zeros with the same shape and data type as the given input array"
      ],
      "metadata": {
        "id": "HNGw6Uiyumg1"
      }
    },
    {
      "cell_type": "code",
      "source": [
        "zeros = np.zeros((2,3))\n",
        "print(zeros)"
      ],
      "metadata": {
        "colab": {
          "base_uri": "https://localhost:8080/"
        },
        "id": "9we4hKvmukPc",
        "outputId": "94ddca19-485c-4b1c-99e9-ba60a1954850"
      },
      "execution_count": 9,
      "outputs": [
        {
          "output_type": "stream",
          "name": "stdout",
          "text": [
            "[[0. 0. 0.]\n",
            " [0. 0. 0.]]\n"
          ]
        }
      ]
    },
    {
      "cell_type": "code",
      "source": [
        "arr = np.array([[1,2], [3,4],[5,6]], dtype=np.complex64)\n",
        "zeros = np.zeros_like(arr)\n",
        "print(zeros)\n",
        "print('Data Type: ' + str(zeros.dtype))"
      ],
      "metadata": {
        "colab": {
          "base_uri": "https://localhost:8080/"
        },
        "id": "0Y5mJkYbuth_",
        "outputId": "df19605e-4a4b-49f8-ed0e-576bcb382d4d"
      },
      "execution_count": 10,
      "outputs": [
        {
          "output_type": "stream",
          "name": "stdout",
          "text": [
            "[[0.+0.j 0.+0.j]\n",
            " [0.+0.j 0.+0.j]\n",
            " [0.+0.j 0.+0.j]]\n",
            "Data Type: complex64\n"
          ]
        }
      ]
    },
    {
      "cell_type": "markdown",
      "source": [
        "##**Create an array of ones of given shape**\n",
        "- ```np.ones()```: create array of all ones in given shape\n",
        "- ```np.ones_like()```: create array of all ones with the same shape and data type as the given input array"
      ],
      "metadata": {
        "id": "sKJWOI6EuysQ"
      }
    },
    {
      "cell_type": "code",
      "source": [
        "ones = np.ones((3,2))\n",
        "print(ones)"
      ],
      "metadata": {
        "colab": {
          "base_uri": "https://localhost:8080/"
        },
        "id": "7XSrO7tWuvRx",
        "outputId": "7cce26e9-4573-4ba9-92fe-a3e7053481a5"
      },
      "execution_count": 11,
      "outputs": [
        {
          "output_type": "stream",
          "name": "stdout",
          "text": [
            "[[1. 1.]\n",
            " [1. 1.]\n",
            " [1. 1.]]\n"
          ]
        }
      ]
    },
    {
      "cell_type": "code",
      "source": [
        "arr = [[1,2,3], [4,5,6]]\n",
        "ones = np.ones_like(arr)\n",
        "print(ones)\n",
        "print('Data Type: ' + str(ones.dtype))"
      ],
      "metadata": {
        "colab": {
          "base_uri": "https://localhost:8080/"
        },
        "id": "tkpxfNiDu6PM",
        "outputId": "b1c1d4b1-d1ec-4f3b-e9a8-eecd2425b199"
      },
      "execution_count": 12,
      "outputs": [
        {
          "output_type": "stream",
          "name": "stdout",
          "text": [
            "[[1 1 1]\n",
            " [1 1 1]]\n",
            "Data Type: int64\n"
          ]
        }
      ]
    },
    {
      "cell_type": "markdown",
      "source": [
        "##**Create an empty array of given shape**\n",
        "- ```np.empty()```: create array of empty values in given shape\n",
        "- ```np.empty_like()```: create array of empty values with the same shape and data type as the given input array\n",
        "\n",
        "Notice that the initial values are not necessarily set to zeroes.\n",
        "\n",
        "They are just some garbage values in random memory addresses."
      ],
      "metadata": {
        "id": "MoNG4T5mu-gw"
      }
    },
    {
      "cell_type": "code",
      "source": [
        "empty = np.empty((5,5))\n",
        "print(empty)"
      ],
      "metadata": {
        "colab": {
          "base_uri": "https://localhost:8080/"
        },
        "id": "bfN4ENVau8BO",
        "outputId": "b02d5530-f636-42ef-86c4-b9f1d13192bd"
      },
      "execution_count": 13,
      "outputs": [
        {
          "output_type": "stream",
          "name": "stdout",
          "text": [
            "[[4.76028542e-310 0.00000000e+000 8.25089629e-322             nan\n",
            "  1.12152902e-321]\n",
            " [0.00000000e+000 3.47667790e-310 8.90029543e-307 1.38872624e+241\n",
            "  7.85138443e-312]\n",
            " [1.80223530e+130 9.48701663e+170 2.43624408e+232 8.54655291e-072\n",
            "  2.28646217e+232]\n",
            " [4.08955235e-080 5.36367605e-080 4.78105270e+180 8.86276415e+175\n",
            "  3.76296486e+199]\n",
            " [3.21522526e+150 2.52333836e-085 6.21822213e+175 2.63920065e-314\n",
            "  2.17292369e-311]]\n"
          ]
        }
      ]
    },
    {
      "cell_type": "code",
      "source": [
        "arr = np.array([[1,2,3], [4,5,6]], dtype=np.int64)\n",
        "empty = np.empty_like(arr)\n",
        "print(empty)\n",
        "print('Data Type: ' + str(empty.dtype))"
      ],
      "metadata": {
        "colab": {
          "base_uri": "https://localhost:8080/"
        },
        "id": "8vth1yZ1vJgH",
        "outputId": "49dbd520-a79a-4f87-cf2b-0e79515f1b26"
      },
      "execution_count": 14,
      "outputs": [
        {
          "output_type": "stream",
          "name": "stdout",
          "text": [
            "[[1065353216 1073741824 1077936128]\n",
            " [1082130432 1084227584 1086324736]]\n",
            "Data Type: int64\n"
          ]
        }
      ]
    },
    {
      "cell_type": "markdown",
      "source": [
        "##**Create an array of constant values of given shape**\n",
        "- ```np.full()```: create array of constant values in given shape\n",
        "- ```np.full_like()```: create array of constant values with the same shape and data type as the given input array"
      ],
      "metadata": {
        "id": "HjRfHQbBvNnY"
      }
    },
    {
      "cell_type": "code",
      "source": [
        "full = np.full((4,4), 5)\n",
        "print(full)"
      ],
      "metadata": {
        "colab": {
          "base_uri": "https://localhost:8080/"
        },
        "id": "bxeSDyjcvLh8",
        "outputId": "7a3e9c1d-9060-4cdf-d46d-80b25a9bc5d9"
      },
      "execution_count": 15,
      "outputs": [
        {
          "output_type": "stream",
          "name": "stdout",
          "text": [
            "[[5 5 5 5]\n",
            " [5 5 5 5]\n",
            " [5 5 5 5]\n",
            " [5 5 5 5]]\n"
          ]
        }
      ]
    },
    {
      "cell_type": "code",
      "source": [
        "arr = np.array([[1,2], [3,4]], dtype=np.float64)\n",
        "full = np.full_like(arr, 5)\n",
        "print(full)\n",
        "print('Data Type: ' + str(full.dtype))"
      ],
      "metadata": {
        "colab": {
          "base_uri": "https://localhost:8080/"
        },
        "id": "w2qVsR5svWAk",
        "outputId": "c0647211-36ec-4a61-c863-24bad890df80"
      },
      "execution_count": 16,
      "outputs": [
        {
          "output_type": "stream",
          "name": "stdout",
          "text": [
            "[[5. 5.]\n",
            " [5. 5.]]\n",
            "Data Type: float64\n"
          ]
        }
      ]
    },
    {
      "cell_type": "markdown",
      "source": [
        "##**Create an array in a repetitive manner**\n",
        "- ```np.repeat(iterable, reps, axis=None)```: repeat each element by n times\n",
        "\n",
        "  *   ```iterable```: input array\n",
        "  *   ```reps```: number of repetitions\n",
        "  *   ```axis```: which axis to repeat along, default is None which will flatten the input array and then repeat\n",
        "- ```np.tile()```: repeat the whole array by n times\n",
        "  *   ```iterable```: input array\n",
        "  *   ```reps```: number of repetitions, it can be a tuple to represent repetitions along x-axis and y-axis"
      ],
      "metadata": {
        "id": "TjPDFYHyvdP5"
      }
    },
    {
      "cell_type": "code",
      "source": [
        "# No axis specified, then flatten the input array first and repeat\n",
        "arr = [[0, 1, 2], [3, 4, 5]]\n",
        "print(np.repeat(arr, 3))"
      ],
      "metadata": {
        "colab": {
          "base_uri": "https://localhost:8080/"
        },
        "id": "jp3AcOtdvXgL",
        "outputId": "5655778a-00bb-4768-8347-58e9d02deb11"
      },
      "execution_count": 17,
      "outputs": [
        {
          "output_type": "stream",
          "name": "stdout",
          "text": [
            "[0 0 0 1 1 1 2 2 2 3 3 3 4 4 4 5 5 5]\n"
          ]
        }
      ]
    },
    {
      "cell_type": "code",
      "source": [
        "# An example of repeating along x-axis\n",
        "arr = [[0, 1, 2], [3, 4, 5]]\n",
        "print(np.repeat(arr, 3, axis=0))"
      ],
      "metadata": {
        "colab": {
          "base_uri": "https://localhost:8080/"
        },
        "id": "Pu_VQjhNwYO7",
        "outputId": "cc123cd9-915d-4e70-8a80-36943105efbd"
      },
      "execution_count": 18,
      "outputs": [
        {
          "output_type": "stream",
          "name": "stdout",
          "text": [
            "[[0 1 2]\n",
            " [0 1 2]\n",
            " [0 1 2]\n",
            " [3 4 5]\n",
            " [3 4 5]\n",
            " [3 4 5]]\n"
          ]
        }
      ]
    },
    {
      "cell_type": "code",
      "source": [
        "# An example of repeating along y-axis\n",
        "arr = [[0, 1, 2], [3, 4, 5]]\n",
        "print(np.repeat(arr, 3, axis=1))"
      ],
      "metadata": {
        "colab": {
          "base_uri": "https://localhost:8080/"
        },
        "id": "0PtLllJfwZ5g",
        "outputId": "4f820ac2-7037-48c1-937c-6eb0b016a7c4"
      },
      "execution_count": 19,
      "outputs": [
        {
          "output_type": "stream",
          "name": "stdout",
          "text": [
            "[[0 0 0 1 1 1 2 2 2]\n",
            " [3 3 3 4 4 4 5 5 5]]\n"
          ]
        }
      ]
    },
    {
      "cell_type": "code",
      "source": [
        "# Repeat the whole array by a specified number of times\n",
        "arr = [0, 1, 2]\n",
        "print(np.tile(arr, 3))"
      ],
      "metadata": {
        "colab": {
          "base_uri": "https://localhost:8080/"
        },
        "id": "JoeZtiY7wbzx",
        "outputId": "048533e7-86b8-4bf0-9a98-d2a0919029a9"
      },
      "execution_count": 20,
      "outputs": [
        {
          "output_type": "stream",
          "name": "stdout",
          "text": [
            "[0 1 2 0 1 2 0 1 2]\n"
          ]
        }
      ]
    },
    {
      "cell_type": "code",
      "source": [
        "# Repeat along specified axes\n",
        "print(np.tile(arr, (2,2)))"
      ],
      "metadata": {
        "colab": {
          "base_uri": "https://localhost:8080/"
        },
        "id": "hP0ncQ9xwdfh",
        "outputId": "da5cb1ea-8641-4227-ad06-e59ae7a4eb1f"
      },
      "execution_count": 21,
      "outputs": [
        {
          "output_type": "stream",
          "name": "stdout",
          "text": [
            "[[0 1 2 0 1 2]\n",
            " [0 1 2 0 1 2]]\n"
          ]
        }
      ]
    },
    {
      "cell_type": "markdown",
      "source": [
        "#**Create an identity matrix of given size**\n",
        "- ```np.eye(size, k=0)```: create an identity matrix of given size\n",
        "  * ```size```: the size of the identity matrix\n",
        "  *```k```: the diagonal offset\n",
        "- ```np.identity()```: same as np.eye() but does not carry parameters"
      ],
      "metadata": {
        "id": "62NeZDy6wiQW"
      }
    },
    {
      "cell_type": "code",
      "source": [
        "identity_matrix = np.eye(5)\n",
        "print(identity_matrix)"
      ],
      "metadata": {
        "colab": {
          "base_uri": "https://localhost:8080/"
        },
        "id": "x2M3s8cWwfOI",
        "outputId": "ada56e74-585d-4901-fe72-5adef9215e28"
      },
      "execution_count": 22,
      "outputs": [
        {
          "output_type": "stream",
          "name": "stdout",
          "text": [
            "[[1. 0. 0. 0. 0.]\n",
            " [0. 1. 0. 0. 0.]\n",
            " [0. 0. 1. 0. 0.]\n",
            " [0. 0. 0. 1. 0.]\n",
            " [0. 0. 0. 0. 1.]]\n"
          ]
        }
      ]
    },
    {
      "cell_type": "code",
      "source": [
        "# An example of diagonal offset\n",
        "identity_matrix = np.eye(5, k=-1)\n",
        "print(identity_matrix)"
      ],
      "metadata": {
        "colab": {
          "base_uri": "https://localhost:8080/"
        },
        "id": "CmfbbUAbwxec",
        "outputId": "e7f23a5c-d612-48bb-fd3d-4e7467c78cb4"
      },
      "execution_count": 23,
      "outputs": [
        {
          "output_type": "stream",
          "name": "stdout",
          "text": [
            "[[0. 0. 0. 0. 0.]\n",
            " [1. 0. 0. 0. 0.]\n",
            " [0. 1. 0. 0. 0.]\n",
            " [0. 0. 1. 0. 0.]\n",
            " [0. 0. 0. 1. 0.]]\n"
          ]
        }
      ]
    },
    {
      "cell_type": "code",
      "source": [
        "identity_matrix = np.identity(5)\n",
        "print(identity_matrix)"
      ],
      "metadata": {
        "colab": {
          "base_uri": "https://localhost:8080/"
        },
        "id": "ykN_6aHBwzsl",
        "outputId": "83e8f5d1-495a-4b8b-dd62-0e64113225b7"
      },
      "execution_count": 24,
      "outputs": [
        {
          "output_type": "stream",
          "name": "stdout",
          "text": [
            "[[1. 0. 0. 0. 0.]\n",
            " [0. 1. 0. 0. 0.]\n",
            " [0. 0. 1. 0. 0.]\n",
            " [0. 0. 0. 1. 0.]\n",
            " [0. 0. 0. 0. 1.]]\n"
          ]
        }
      ]
    },
    {
      "cell_type": "markdown",
      "source": [
        "##**Create an array with given values on the diagonal**"
      ],
      "metadata": {
        "id": "tU2Dv7MHw3-b"
      }
    },
    {
      "cell_type": "code",
      "source": [
        "arr = np.random.rand(5,5)\n",
        "print(arr)\n",
        "# Extract values on the diagonal\n",
        "print('Values on the diagonal: ' + str(np.diag(arr)))"
      ],
      "metadata": {
        "colab": {
          "base_uri": "https://localhost:8080/"
        },
        "id": "U7bWffkvw1PL",
        "outputId": "be708d39-993c-49b1-ad3d-e06a0886e71e"
      },
      "execution_count": 25,
      "outputs": [
        {
          "output_type": "stream",
          "name": "stdout",
          "text": [
            "[[0.71701172 0.67710332 0.97402278 0.05715833 0.32298226]\n",
            " [0.42325181 0.75944439 0.19618354 0.42521626 0.48162224]\n",
            " [0.66845582 0.49481586 0.01342324 0.51639867 0.39891375]\n",
            " [0.56948144 0.43528541 0.52282407 0.65628823 0.27242486]\n",
            " [0.40909004 0.78755968 0.46892999 0.92064378 0.4675388 ]]\n",
            "Values on the diagonal: [0.71701172 0.75944439 0.01342324 0.65628823 0.4675388 ]\n"
          ]
        }
      ]
    },
    {
      "cell_type": "code",
      "source": [
        "# Not necessarily to be a square matrix\n",
        "arr = np.random.rand(10,3)\n",
        "print(arr)\n",
        "# Extract values on the diagonal\n",
        "print('Values on the diagonal: ' + str(np.diag(arr)))"
      ],
      "metadata": {
        "colab": {
          "base_uri": "https://localhost:8080/"
        },
        "id": "Vnxg8D1lw8G8",
        "outputId": "d862695a-6338-49d6-c01c-a53bfc99bc1c"
      },
      "execution_count": 26,
      "outputs": [
        {
          "output_type": "stream",
          "name": "stdout",
          "text": [
            "[[0.90236727 0.82183412 0.06163885]\n",
            " [0.29445916 0.58717184 0.78380372]\n",
            " [0.29025456 0.36781203 0.49095197]\n",
            " [0.73334419 0.49863316 0.35323017]\n",
            " [0.02724136 0.94357362 0.54140237]\n",
            " [0.3019438  0.98052572 0.40496622]\n",
            " [0.39935827 0.70257032 0.81000017]\n",
            " [0.10230396 0.96968433 0.62287527]\n",
            " [0.96352314 0.04250801 0.34782021]\n",
            " [0.09342276 0.92661741 0.2601934 ]]\n",
            "Values on the diagonal: [0.90236727 0.58717184 0.49095197]\n"
          ]
        }
      ]
    },
    {
      "cell_type": "code",
      "source": [
        "# Create a matrix given values on the diagonal\n",
        "# All non-diagonal values set to zeros\n",
        "arr = np.diag([1,2,3,4,5])\n",
        "print(arr)"
      ],
      "metadata": {
        "colab": {
          "base_uri": "https://localhost:8080/"
        },
        "id": "mduH8dJvw-E3",
        "outputId": "4db53495-1a04-46bc-b2d6-e4b1c821f4d5"
      },
      "execution_count": 27,
      "outputs": [
        {
          "output_type": "stream",
          "name": "stdout",
          "text": [
            "[[1 0 0 0 0]\n",
            " [0 2 0 0 0]\n",
            " [0 0 3 0 0]\n",
            " [0 0 0 4 0]\n",
            " [0 0 0 0 5]]\n"
          ]
        }
      ]
    },
    {
      "cell_type": "code",
      "source": [],
      "metadata": {
        "id": "etmd0oBtxAId"
      },
      "execution_count": null,
      "outputs": []
    }
  ]
}