{
  "nbformat": 4,
  "nbformat_minor": 0,
  "metadata": {
    "colab": {
      "provenance": [],
      "authorship_tag": "ABX9TyMDOlh+wi4oxWCNJXQrCoK5",
      "include_colab_link": true
    },
    "kernelspec": {
      "name": "python3",
      "display_name": "Python 3"
    },
    "language_info": {
      "name": "python"
    }
  },
  "cells": [
    {
      "cell_type": "markdown",
      "metadata": {
        "id": "view-in-github",
        "colab_type": "text"
      },
      "source": [
        "<a href=\"https://colab.research.google.com/github/Almuzhidul/Basic-Python/blob/main/Heckathon.ipynb\" target=\"_parent\"><img src=\"https://colab.research.google.com/assets/colab-badge.svg\" alt=\"Open In Colab\"/></a>"
      ]
    },
    {
      "cell_type": "markdown",
      "source": [
        "#**Library**"
      ],
      "metadata": {
        "id": "e25Q1T1wvW-i"
      }
    },
    {
      "cell_type": "code",
      "execution_count": 142,
      "metadata": {
        "id": "CJOXcesb5ziO"
      },
      "outputs": [],
      "source": [
        "import pandas as pd\n",
        "import numpy as np\n",
        "import seaborn as sns\n",
        "import matplotlib.pyplot as plt\n",
        "import plotly.express as px\n",
        "from sklearn.model_selection import train_test_split\n",
        "from sklearn.model_selection import KFold, cross_val_score, train_test_split, GridSearchCV\n",
        "from sklearn.ensemble import RandomForestRegressor,  GradientBoostingRegressor\n",
        "from sklearn.metrics import mean_squared_error, r2_score,mean_absolute_error\n",
        "from sklearn.linear_model import LinearRegression"
      ]
    },
    {
      "cell_type": "markdown",
      "source": [
        "#**Read Dataset**"
      ],
      "metadata": {
        "id": "SPSQXYSPvcxA"
      }
    },
    {
      "cell_type": "code",
      "source": [
        "data = pd.read_csv(\"/content/dataframe_.csv\")\n",
        "data.head()"
      ],
      "metadata": {
        "colab": {
          "base_uri": "https://localhost:8080/",
          "height": 206
        },
        "id": "cvCn8W_mRxQV",
        "outputId": "9474e3e4-4417-4c4a-c207-ebf03af399e6"
      },
      "execution_count": 143,
      "outputs": [
        {
          "output_type": "execute_result",
          "data": {
            "text/plain": [
              "        input      output\n",
              "0 -122.740667 -130.572085\n",
              "1 -121.531419 -129.938929\n",
              "2 -134.917019 -130.141832\n",
              "3 -120.605951 -125.760932\n",
              "4 -129.894781 -112.785214"
            ],
            "text/html": [
              "\n",
              "  <div id=\"df-880547ea-ea49-4886-b115-76e68b2f22ed\">\n",
              "    <div class=\"colab-df-container\">\n",
              "      <div>\n",
              "<style scoped>\n",
              "    .dataframe tbody tr th:only-of-type {\n",
              "        vertical-align: middle;\n",
              "    }\n",
              "\n",
              "    .dataframe tbody tr th {\n",
              "        vertical-align: top;\n",
              "    }\n",
              "\n",
              "    .dataframe thead th {\n",
              "        text-align: right;\n",
              "    }\n",
              "</style>\n",
              "<table border=\"1\" class=\"dataframe\">\n",
              "  <thead>\n",
              "    <tr style=\"text-align: right;\">\n",
              "      <th></th>\n",
              "      <th>input</th>\n",
              "      <th>output</th>\n",
              "    </tr>\n",
              "  </thead>\n",
              "  <tbody>\n",
              "    <tr>\n",
              "      <th>0</th>\n",
              "      <td>-122.740667</td>\n",
              "      <td>-130.572085</td>\n",
              "    </tr>\n",
              "    <tr>\n",
              "      <th>1</th>\n",
              "      <td>-121.531419</td>\n",
              "      <td>-129.938929</td>\n",
              "    </tr>\n",
              "    <tr>\n",
              "      <th>2</th>\n",
              "      <td>-134.917019</td>\n",
              "      <td>-130.141832</td>\n",
              "    </tr>\n",
              "    <tr>\n",
              "      <th>3</th>\n",
              "      <td>-120.605951</td>\n",
              "      <td>-125.760932</td>\n",
              "    </tr>\n",
              "    <tr>\n",
              "      <th>4</th>\n",
              "      <td>-129.894781</td>\n",
              "      <td>-112.785214</td>\n",
              "    </tr>\n",
              "  </tbody>\n",
              "</table>\n",
              "</div>\n",
              "      <button class=\"colab-df-convert\" onclick=\"convertToInteractive('df-880547ea-ea49-4886-b115-76e68b2f22ed')\"\n",
              "              title=\"Convert this dataframe to an interactive table.\"\n",
              "              style=\"display:none;\">\n",
              "        \n",
              "  <svg xmlns=\"http://www.w3.org/2000/svg\" height=\"24px\"viewBox=\"0 0 24 24\"\n",
              "       width=\"24px\">\n",
              "    <path d=\"M0 0h24v24H0V0z\" fill=\"none\"/>\n",
              "    <path d=\"M18.56 5.44l.94 2.06.94-2.06 2.06-.94-2.06-.94-.94-2.06-.94 2.06-2.06.94zm-11 1L8.5 8.5l.94-2.06 2.06-.94-2.06-.94L8.5 2.5l-.94 2.06-2.06.94zm10 10l.94 2.06.94-2.06 2.06-.94-2.06-.94-.94-2.06-.94 2.06-2.06.94z\"/><path d=\"M17.41 7.96l-1.37-1.37c-.4-.4-.92-.59-1.43-.59-.52 0-1.04.2-1.43.59L10.3 9.45l-7.72 7.72c-.78.78-.78 2.05 0 2.83L4 21.41c.39.39.9.59 1.41.59.51 0 1.02-.2 1.41-.59l7.78-7.78 2.81-2.81c.8-.78.8-2.07 0-2.86zM5.41 20L4 18.59l7.72-7.72 1.47 1.35L5.41 20z\"/>\n",
              "  </svg>\n",
              "      </button>\n",
              "      \n",
              "  <style>\n",
              "    .colab-df-container {\n",
              "      display:flex;\n",
              "      flex-wrap:wrap;\n",
              "      gap: 12px;\n",
              "    }\n",
              "\n",
              "    .colab-df-convert {\n",
              "      background-color: #E8F0FE;\n",
              "      border: none;\n",
              "      border-radius: 50%;\n",
              "      cursor: pointer;\n",
              "      display: none;\n",
              "      fill: #1967D2;\n",
              "      height: 32px;\n",
              "      padding: 0 0 0 0;\n",
              "      width: 32px;\n",
              "    }\n",
              "\n",
              "    .colab-df-convert:hover {\n",
              "      background-color: #E2EBFA;\n",
              "      box-shadow: 0px 1px 2px rgba(60, 64, 67, 0.3), 0px 1px 3px 1px rgba(60, 64, 67, 0.15);\n",
              "      fill: #174EA6;\n",
              "    }\n",
              "\n",
              "    [theme=dark] .colab-df-convert {\n",
              "      background-color: #3B4455;\n",
              "      fill: #D2E3FC;\n",
              "    }\n",
              "\n",
              "    [theme=dark] .colab-df-convert:hover {\n",
              "      background-color: #434B5C;\n",
              "      box-shadow: 0px 1px 3px 1px rgba(0, 0, 0, 0.15);\n",
              "      filter: drop-shadow(0px 1px 2px rgba(0, 0, 0, 0.3));\n",
              "      fill: #FFFFFF;\n",
              "    }\n",
              "  </style>\n",
              "\n",
              "      <script>\n",
              "        const buttonEl =\n",
              "          document.querySelector('#df-880547ea-ea49-4886-b115-76e68b2f22ed button.colab-df-convert');\n",
              "        buttonEl.style.display =\n",
              "          google.colab.kernel.accessAllowed ? 'block' : 'none';\n",
              "\n",
              "        async function convertToInteractive(key) {\n",
              "          const element = document.querySelector('#df-880547ea-ea49-4886-b115-76e68b2f22ed');\n",
              "          const dataTable =\n",
              "            await google.colab.kernel.invokeFunction('convertToInteractive',\n",
              "                                                     [key], {});\n",
              "          if (!dataTable) return;\n",
              "\n",
              "          const docLinkHtml = 'Like what you see? Visit the ' +\n",
              "            '<a target=\"_blank\" href=https://colab.research.google.com/notebooks/data_table.ipynb>data table notebook</a>'\n",
              "            + ' to learn more about interactive tables.';\n",
              "          element.innerHTML = '';\n",
              "          dataTable['output_type'] = 'display_data';\n",
              "          await google.colab.output.renderOutput(dataTable, element);\n",
              "          const docLink = document.createElement('div');\n",
              "          docLink.innerHTML = docLinkHtml;\n",
              "          element.appendChild(docLink);\n",
              "        }\n",
              "      </script>\n",
              "    </div>\n",
              "  </div>\n",
              "  "
            ]
          },
          "metadata": {},
          "execution_count": 143
        }
      ]
    },
    {
      "cell_type": "markdown",
      "source": [
        "##**check the number of datasets**"
      ],
      "metadata": {
        "id": "tBZRjpfvviA5"
      }
    },
    {
      "cell_type": "code",
      "source": [
        "len(data)"
      ],
      "metadata": {
        "colab": {
          "base_uri": "https://localhost:8080/"
        },
        "id": "Lv2WT0J5byDd",
        "outputId": "b855c90a-2eba-46dd-d262-26047ae65eaa"
      },
      "execution_count": 144,
      "outputs": [
        {
          "output_type": "execute_result",
          "data": {
            "text/plain": [
              "1697"
            ]
          },
          "metadata": {},
          "execution_count": 144
        }
      ]
    },
    {
      "cell_type": "markdown",
      "source": [
        "#**Check the missing value**"
      ],
      "metadata": {
        "id": "EnljlIiTv-ZU"
      }
    },
    {
      "cell_type": "code",
      "source": [
        "data.info()"
      ],
      "metadata": {
        "colab": {
          "base_uri": "https://localhost:8080/"
        },
        "id": "FPOO0okNR4Ml",
        "outputId": "4197cfed-46fb-4922-fa86-e98002152302"
      },
      "execution_count": 145,
      "outputs": [
        {
          "output_type": "stream",
          "name": "stdout",
          "text": [
            "<class 'pandas.core.frame.DataFrame'>\n",
            "RangeIndex: 1697 entries, 0 to 1696\n",
            "Data columns (total 2 columns):\n",
            " #   Column  Non-Null Count  Dtype  \n",
            "---  ------  --------------  -----  \n",
            " 0   input   1696 non-null   float64\n",
            " 1   output  1696 non-null   float64\n",
            "dtypes: float64(2)\n",
            "memory usage: 26.6 KB\n"
          ]
        }
      ]
    },
    {
      "cell_type": "code",
      "source": [
        "sns.heatmap(data.isnull(),cbar=False,yticklabels=False,cmap = 'viridis')"
      ],
      "metadata": {
        "colab": {
          "base_uri": "https://localhost:8080/",
          "height": 282
        },
        "id": "Fl8paOT4j6Tm",
        "outputId": "330861c6-9c38-428e-e9fe-9d64bff293c2"
      },
      "execution_count": 147,
      "outputs": [
        {
          "output_type": "execute_result",
          "data": {
            "text/plain": [
              "<matplotlib.axes._subplots.AxesSubplot at 0x7f19dddd74f0>"
            ]
          },
          "metadata": {},
          "execution_count": 147
        },
        {
          "output_type": "display_data",
          "data": {
            "text/plain": [
              "<Figure size 432x288 with 1 Axes>"
            ],
            "image/png": "[encoded data removed]"
          },
          "metadata": {
            "needs_background": "light"
          }
        }
      ]
    },
    {
      "cell_type": "markdown",
      "source": [
        "As  we can see at the output that there is no missing value"
      ],
      "metadata": {
        "id": "6nHQuKNVwLWX"
      }
    },
    {
      "cell_type": "markdown",
      "source": [
        "##**Displays a summary of data statistics**"
      ],
      "metadata": {
        "id": "lpgYyTLcwXuN"
      }
    },
    {
      "cell_type": "code",
      "source": [
        "data.describe()"
      ],
      "metadata": {
        "colab": {
          "base_uri": "https://localhost:8080/",
          "height": 300
        },
        "id": "6jx0zNhPbvTi",
        "outputId": "13ef0b41-2682-47b3-f826-cbd63b81e32a"
      },
      "execution_count": 148,
      "outputs": [
        {
          "output_type": "execute_result",
          "data": {
            "text/plain": [
              "             input       output\n",
              "count  1696.000000  1696.000000\n",
              "mean      1.159933   -34.088017\n",
              "std      79.005970    65.771112\n",
              "min    -134.962839  -132.422167\n",
              "25%     -63.386506   -80.026767\n",
              "50%      10.195194   -50.470981\n",
              "75%      70.264109   -11.000000\n",
              "max     134.605775   134.425495"
            ],
            "text/html": [
              "\n",
              "  <div id=\"df-0369dd37-11a8-4947-887d-dc2dbbf7fb93\">\n",
              "    <div class=\"colab-df-container\">\n",
              "      <div>\n",
              "<style scoped>\n",
              "    .dataframe tbody tr th:only-of-type {\n",
              "        vertical-align: middle;\n",
              "    }\n",
              "\n",
              "    .dataframe tbody tr th {\n",
              "        vertical-align: top;\n",
              "    }\n",
              "\n",
              "    .dataframe thead th {\n",
              "        text-align: right;\n",
              "    }\n",
              "</style>\n",
              "<table border=\"1\" class=\"dataframe\">\n",
              "  <thead>\n",
              "    <tr style=\"text-align: right;\">\n",
              "      <th></th>\n",
              "      <th>input</th>\n",
              "      <th>output</th>\n",
              "    </tr>\n",
              "  </thead>\n",
              "  <tbody>\n",
              "    <tr>\n",
              "      <th>count</th>\n",
              "      <td>1696.000000</td>\n",
              "      <td>1696.000000</td>\n",
              "    </tr>\n",
              "    <tr>\n",
              "      <th>mean</th>\n",
              "      <td>1.159933</td>\n",
              "      <td>-34.088017</td>\n",
              "    </tr>\n",
              "    <tr>\n",
              "      <th>std</th>\n",
              "      <td>79.005970</td>\n",
              "      <td>65.771112</td>\n",
              "    </tr>\n",
              "    <tr>\n",
              "      <th>min</th>\n",
              "      <td>-134.962839</td>\n",
              "      <td>-132.422167</td>\n",
              "    </tr>\n",
              "    <tr>\n",
              "      <th>25%</th>\n",
              "      <td>-63.386506</td>\n",
              "      <td>-80.026767</td>\n",
              "    </tr>\n",
              "    <tr>\n",
              "      <th>50%</th>\n",
              "      <td>10.195194</td>\n",
              "      <td>-50.470981</td>\n",
              "    </tr>\n",
              "    <tr>\n",
              "      <th>75%</th>\n",
              "      <td>70.264109</td>\n",
              "      <td>-11.000000</td>\n",
              "    </tr>\n",
              "    <tr>\n",
              "      <th>max</th>\n",
              "      <td>134.605775</td>\n",
              "      <td>134.425495</td>\n",
              "    </tr>\n",
              "  </tbody>\n",
              "</table>\n",
              "</div>\n",
              "      <button class=\"colab-df-convert\" onclick=\"convertToInteractive('df-0369dd37-11a8-4947-887d-dc2dbbf7fb93')\"\n",
              "              title=\"Convert this dataframe to an interactive table.\"\n",
              "              style=\"display:none;\">\n",
              "        \n",
              "  <svg xmlns=\"http://www.w3.org/2000/svg\" height=\"24px\"viewBox=\"0 0 24 24\"\n",
              "       width=\"24px\">\n",
              "    <path d=\"M0 0h24v24H0V0z\" fill=\"none\"/>\n",
              "    <path d=\"M18.56 5.44l.94 2.06.94-2.06 2.06-.94-2.06-.94-.94-2.06-.94 2.06-2.06.94zm-11 1L8.5 8.5l.94-2.06 2.06-.94-2.06-.94L8.5 2.5l-.94 2.06-2.06.94zm10 10l.94 2.06.94-2.06 2.06-.94-2.06-.94-.94-2.06-.94 2.06-2.06.94z\"/><path d=\"M17.41 7.96l-1.37-1.37c-.4-.4-.92-.59-1.43-.59-.52 0-1.04.2-1.43.59L10.3 9.45l-7.72 7.72c-.78.78-.78 2.05 0 2.83L4 21.41c.39.39.9.59 1.41.59.51 0 1.02-.2 1.41-.59l7.78-7.78 2.81-2.81c.8-.78.8-2.07 0-2.86zM5.41 20L4 18.59l7.72-7.72 1.47 1.35L5.41 20z\"/>\n",
              "  </svg>\n",
              "      </button>\n",
              "      \n",
              "  <style>\n",
              "    .colab-df-container {\n",
              "      display:flex;\n",
              "      flex-wrap:wrap;\n",
              "      gap: 12px;\n",
              "    }\n",
              "\n",
              "    .colab-df-convert {\n",
              "      background-color: #E8F0FE;\n",
              "      border: none;\n",
              "      border-radius: 50%;\n",
              "      cursor: pointer;\n",
              "      display: none;\n",
              "      fill: #1967D2;\n",
              "      height: 32px;\n",
              "      padding: 0 0 0 0;\n",
              "      width: 32px;\n",
              "    }\n",
              "\n",
              "    .colab-df-convert:hover {\n",
              "      background-color: #E2EBFA;\n",
              "      box-shadow: 0px 1px 2px rgba(60, 64, 67, 0.3), 0px 1px 3px 1px rgba(60, 64, 67, 0.15);\n",
              "      fill: #174EA6;\n",
              "    }\n",
              "\n",
              "    [theme=dark] .colab-df-convert {\n",
              "      background-color: #3B4455;\n",
              "      fill: #D2E3FC;\n",
              "    }\n",
              "\n",
              "    [theme=dark] .colab-df-convert:hover {\n",
              "      background-color: #434B5C;\n",
              "      box-shadow: 0px 1px 3px 1px rgba(0, 0, 0, 0.15);\n",
              "      filter: drop-shadow(0px 1px 2px rgba(0, 0, 0, 0.3));\n",
              "      fill: #FFFFFF;\n",
              "    }\n",
              "  </style>\n",
              "\n",
              "      <script>\n",
              "        const buttonEl =\n",
              "          document.querySelector('#df-0369dd37-11a8-4947-887d-dc2dbbf7fb93 button.colab-df-convert');\n",
              "        buttonEl.style.display =\n",
              "          google.colab.kernel.accessAllowed ? 'block' : 'none';\n",
              "\n",
              "        async function convertToInteractive(key) {\n",
              "          const element = document.querySelector('#df-0369dd37-11a8-4947-887d-dc2dbbf7fb93');\n",
              "          const dataTable =\n",
              "            await google.colab.kernel.invokeFunction('convertToInteractive',\n",
              "                                                     [key], {});\n",
              "          if (!dataTable) return;\n",
              "\n",
              "          const docLinkHtml = 'Like what you see? Visit the ' +\n",
              "            '<a target=\"_blank\" href=https://colab.research.google.com/notebooks/data_table.ipynb>data table notebook</a>'\n",
              "            + ' to learn more about interactive tables.';\n",
              "          element.innerHTML = '';\n",
              "          dataTable['output_type'] = 'display_data';\n",
              "          await google.colab.output.renderOutput(dataTable, element);\n",
              "          const docLink = document.createElement('div');\n",
              "          docLink.innerHTML = docLinkHtml;\n",
              "          element.appendChild(docLink);\n",
              "        }\n",
              "      </script>\n",
              "    </div>\n",
              "  </div>\n",
              "  "
            ]
          },
          "metadata": {},
          "execution_count": 148
        }
      ]
    },
    {
      "cell_type": "markdown",
      "source": [
        "##**Check and display the distribution of the dataset with scatter plots and histograms**"
      ],
      "metadata": {
        "id": "7eHBZpLowiZc"
      }
    },
    {
      "cell_type": "code",
      "source": [
        "sns.scatterplot(data=data, x=\"input\", y=\"output\")"
      ],
      "metadata": {
        "colab": {
          "base_uri": "https://localhost:8080/",
          "height": 296
        },
        "id": "Vo_yR6Q3b67y",
        "outputId": "13e07600-6f67-40dc-babb-f71296a6790c"
      },
      "execution_count": 149,
      "outputs": [
        {
          "output_type": "execute_result",
          "data": {
            "text/plain": [
              "<matplotlib.axes._subplots.AxesSubplot at 0x7f19ddc2c910>"
            ]
          },
          "metadata": {},
          "execution_count": 149
        },
        {
          "output_type": "display_data",
          "data": {
            "text/plain": [
              "<Figure size 432x288 with 1 Axes>"
            ],
            "image/png": "[encoded data removed]"
          },
          "metadata": {
            "needs_background": "light"
          }
        }
      ]
    },
    {
      "cell_type": "code",
      "source": [
        "sns.histplot(data=data, x=\"input\", bins=20)"
      ],
      "metadata": {
        "colab": {
          "base_uri": "https://localhost:8080/",
          "height": 296
        },
        "id": "l2Da3Fcxcifg",
        "outputId": "b39c9fff-17db-4326-831b-5da9ce70eb3c"
      },
      "execution_count": 150,
      "outputs": [
        {
          "output_type": "execute_result",
          "data": {
            "text/plain": [
              "<matplotlib.axes._subplots.AxesSubplot at 0x7f19ddcdb940>"
            ]
          },
          "metadata": {},
          "execution_count": 150
        },
        {
          "output_type": "display_data",
          "data": {
            "text/plain": [
              "<Figure size 432x288 with 1 Axes>"
            ],
            "image/png": "[encoded data removed]"
          },
          "metadata": {
            "needs_background": "light"
          }
        }
      ]
    },
    {
      "cell_type": "markdown",
      "source": [
        "##**Check Outlier**"
      ],
      "metadata": {
        "id": "f0XRlNLmwvDx"
      }
    },
    {
      "cell_type": "code",
      "source": [
        "fig = px.box(data, y=\"input\")\n",
        "fig.show()"
      ],
      "metadata": {
        "colab": {
          "base_uri": "https://localhost:8080/",
          "height": 542
        },
        "id": "XZ-aoHTdkYi2",
        "outputId": "540e21c9-90ed-4416-b839-a470774a0456"
      },
      "execution_count": 151,
      "outputs": [
        {
          "output_type": "display_data",
          "data": {
            "text/html": [
              "<html>\n",
              "<head><meta charset=\"utf-8\" /></head>\n",
              "<body>\n",
              "    <div>            <script src=\"https://cdnjs.cloudflare.com/ajax/libs/mathjax/2.7.5/MathJax.js?config=TeX-AMS-MML_SVG\"></script><script type=\"text/javascript\">if (window.MathJax) {MathJax.Hub.Config({SVG: {font: \"STIX-Web\"}});}</script>                <script type=\"text/javascript\">window.PlotlyConfig = {MathJaxConfig: 'local'};</script>\n",
              "        <script src=\"https://cdn.plot.ly/plotly-2.8.3.min.js\"></script>                <div id=\"f45117b3-618c-4e7d-a5d0-800aaedd072a\" class=\"plotly-graph-div\" style=\"height:525px; width:100%;\"></div>            <script type=\"text/javascript\">                                    window.PLOTLYENV=window.PLOTLYENV || {};                                    if (document.getElementById(\"f45117b3-618c-4e7d-a5d0-800aaedd072a\")) {                    Plotly.newPlot(                        \"f45117b3-618c-4e7d-a5d0-800aaedd072a\",                        [{\"alignmentgroup\":\"True\",\"hovertemplate\":\"input=%{y}<extra></extra>\",\"legendgroup\":\"\",\"marker\":{\"color\":\"#636efa\"},\"name\":\"\",\"notched\":false,\"offsetgroup\":\"\",\"orientation\":\"v\",\"showlegend\":false,\"x0\":\" \",\"xaxis\":\"x\",\"y\":[-122.7406674,-121.5314194,-134.917019,-120.6059511,-129.8947807,-134.3666687,-115.5637388,-132.0801614,-133.3666687,-119.5241123,-125.743622,-133.3666687,-114.1008952,-131.3666687,-113.2783381,-133.8181748,-121.6535425,-127.3666687,-108.4996398,-111.2536771,-124.3666687,-119.1166023,-114.4105263,-122.3666687,-131.9053601,-109.2783685,-105.5046405,-122.3666687,-112.2579067,-111.0440481,-126.6376399,-120.3666687,-125.0856202,-103.409788,-115.2626373,-119.3666687,-104.9065286,-99.7125535,-117.3666687,-116.3328387,-125.3821591,-103.2199847,-115.3666687,-120.2750927,-113.2574809,-96.69835134,-115.3666687,-101.9974407,-111.9026024,-130.789929,-112.3666687,-98.94771821,-104.681987,-112.8669092,-110.3666687,-108.6044447,-96.69369402,-113.9676037,-109.3666687,-124.5036828,-117.2137042,-121.2046658,-107.3666687,-104.9610089,-117.6854971,-89.40230539,-103.3666687,-100.5580459,-120.2277907,-94.30913766,-97.3666687,-91.04201528,-78.20211469,-95.15544932,-93.3666687,-81.77033439,-87.0241036,-110.0463219,-89.3666687,-85.41455691,-92.64925409,-101.6487395,-85.3666687,-84.28352954,-84.96966072,-82.47330628,-81.3666687,-77.17078043,-98.10881697,-93.24668792,-78.3666687,-58.37606468,-68.8784393,-76.98891662,-74.3666687,-87.26897491,-76.35324445,-82.77428553,-69.3666687,-61.55889401,-58.98819625,-85.80860879,-63.3666687,-72.70797091,-63.38650606,-48.53668361,-63.3666687,-76.55524121,-59.69060767,-52.82573057,-60.3666687,-42.38717758,-68.3758247,-48.31029872,-55.3666687,-50.89986961,-43.73980562,-48.76670726,-53.3666687,-39.13115726,-73.08455738,-62.96446592,-51.3666687,-34.82187374,-40.55217485,-66.00888645,-50.3666687,-43.42088189,-47.37293302,-60.01363137,-49.3666687,-61.61160559,-46.27445623,-60.9840419,-48.3666687,-34.00460262,-41.23533741,-52.84690035,-46.3666687,-32.79228835,-35.31338008,-51.60894228,-43.3666687,-29.79892566,-49.28165314,-49.85239306,-41.3666687,-43.80026435,-37.74056727,-42.44028615,-39.3666687,-22.2303394,-58.914585,-43.67325559,-36.3666687,-50.89369773,-51.08851937,-47.18873909,-34.3666687,-28.78594602,-17.57248795,-16.43422927,-31.3666687,-26.20701778,-41.75329574,-50.37560751,-28.3666687,-19.06537265,-10.03302214,-16.48740103,-25.3666687,-36.04595373,-15.72408927,-9.391966657,-24.3666687,-14.82309509,-8.460922967,-33.00413535,-23.3666687,-37.76516594,-26.5689695,-28.80949122,-20.3666687,-12.40866082,-21.89561574,-21.74031224,-19.3666687,-19.00663561,-27.69218859,-31.78880733,-15.3666687,-32.59975281,-2.56631225,-14.88210966,-13.3666687,-28.28145925,-13.26753928,2.131206792,-9.366668701,-27.49020375,-7.677098033,-27.47073653,-3.366668701,-0.946835246,-12.30717375,6.232961702,-1.366668701,-16.89230218,-5.185124517,-0.906411856,2.633331299,17.29084339,-0.053444122,7.608236037,4.633331299,5.776890023,1.769256846,-5.127361719,6.633331299,2.652099734,-11.78803004,19.38672393,8.633331299,15.83363293,14.61577836,-7.344009933,12.6333313,-5.224325585,18.25867976,3.309414429,15.6333313,-0.826171418,18.27471569,25.05751359,17.6333313,36.69202077,31.11729361,29.67149386,20.6333313,15.74042439,36.71914025,25.5671738,27.6333313,26.00801791,35.81692213,34.4750434,33.6333313,22.33027161,46.31618757,43.38798948,36.6333313,46.99919753,22.52866332,27.55542371,39.6333313,55.44449713,55.47528165,50.1059805,42.6333313,43.78781024,25.86827601,40.93601306,44.6333313,32.72388373,34.37148828,28.97650765,47.6333313,58.91579044,63.24983624,40.95082985,52.6333313,55.1718735,62.76669813,41.09625964,54.6333313,36.63059395,62.28690026,51.14007952,58.6333313,45.89987237,55.39144421,41.16895165,63.6333313,77.19718849,81.58129222,70.26410872,68.6333313,53.91664836,70.90005448,57.20674755,72.6333313,86.15365801,71.01888331,75.18573349,74.6333313,78.32298659,64.64426165,84.49846493,76.6333313,60.14399401,82.89604966,73.8132914,80.6333313,70.0294931,98.19870569,82.76421171,84.6333313,84.77524438,89.44524993,72.04171715,89.6333313,91.84910437,76.65852087,86.2740089,92.6333313,93.54570014,90.57672233,101.2707346,96.6333313,100.4674643,96.08331355,85.24119004,100.6333313,83.67882714,105.8866071,119.0248458,102.6333313,112.6598778,115.4332941,103.0789271,106.6333313,122.0154499,103.5799233,90.82227294,112.6333313,93.19808183,110.1351971,126.25779,112.6333313,114.2310589,112.0880697,94.668251,114.6333313,103.6168168,108.1348708,131.90958,115.6333313,122.3210184,105.0756003,103.8184685,117.6333313,126.5716611,111.921765,112.5890501,122.6333313,120.5892044,122.6333313,134.4631809,125.91664,133.1015146,124.6333313,121.0600756,133.0240344,106.7891091,38.6333313,51.62247516,46.14750387,34.01840062,46.6333313,39.76323513,65.4181158,35.28236221,51.6333313,41.99099491,62.31576772,58.38690874,56.6333313,71.16098732,36.78477325,45.64962479,58.6333313,39.84865438,49.34996863,63.6225441,62.6333313,82.4902064,50.31621288,70.61621992,66.6333313,50.52121813,66.46908649,57.81271544,69.6333313,69.99778262,73.59428217,77.10752826,73.6333313,88.25616156,58.9160873,71.03641899,77.6333313,74.34604263,66.88622905,95.63848989,80.6333313,94.82477999,62.58111922,86.61172694,82.6333313,65.59507435,78.51750881,73.46537222,84.6333313,77.44915486,80.21419524,93.94866414,88.6333313,105.7242686,76.59414876,99.53084675,90.6333313,83.15571981,100.8818575,98.20922281,92.6333313,107.9318825,74.41298046,112.6249097,93.6333313,75.80230803,87.32502757,105.4827326,97.6333313,96.46005449,98.82209025,79.80685918,100.6333313,101.7338025,115.0005466,83.27412351,102.6333313,120.2485568,105.2703064,117.5966596,104.6333313,92.31660855,89.85562364,99.33809238,106.6333313,104.0887767,88.41154465,123.6277237,108.6333313,110.1766028,116.194467,103.3030867,112.6333313,113.4197101,108.9908315,92.87962696,112.6333313,107.9920345,117.7597662,132.2814886,112.6333313,111.2355088,124.0215706,112.8067776,112.6333313,99.41493998,112.8405948,120.1030121,118.6333313,105.7058912,133.9073717,129.5416718,120.6333313,133.3589345,124.4528335,120.6333313,108.4136656,105.5507259,120.6333313,117.7568023,118.6333313,125.2329353,124.6410144,116.6333313,104.7722544,107.1731716,109.0853089,112.6333313,112.138167,119.2002417,124.727894,110.6333313,101.4525473,112.6764372,98.30653124,106.6333313,105.3270206,102.4557181,123.2706712,103.6333313,90.51009332,114.5770969,109.5425747,99.6333313,80.75152639,113.9217406,117.2403723,94.6333313,108.0819075,75.45194237,98.99663552,92.6333313,92.31453119,111.9169776,85.10753769,90.6333313,102.8130929,71.90404034,105.3430505,86.6333313,96.90173948,76.25316671,83.85723704,82.6333313,84.09626702,81.96081304,94.28697677,80.6333313,85.55976328,65.99394815,84.23792784,80.6333313,90.47234273,86.18343294,93.86432888,78.6333313,61.32767138,64.28233301,95.08985453,76.6333313,70.46766643,61.17456912,83.09733587,74.6333313,60.23623506,92.7301527,66.30629409,74.6333313,67.14749314,83.77044153,76.01612727,71.6333313,69.53894465,54.43486133,52.24730214,69.6333313,51.85523046,54.37842614,81.87561384,68.6333313,75.53568033,79.91468981,83.85177367,65.6333313,62.38600507,63.86011115,76.44048704,61.6333313,64.99073331,70.51320508,64.61561275,57.6333313,46.28784443,46.05831377,75.41030192,54.6333313,68.02949167,36.6257103,70.45376004,51.6333313,62.25279907,44.81297913,55.08364211,47.6333313,51.32374166,33.19301418,65.71100198,42.6333313,35.98327515,46.73433139,26.741033,40.6333313,34.27481775,56.59054351,49.41916844,36.6333313,54.7986772,50.33424942,29.66920056,32.6333313,22.40983236,39.65771677,43.4239885,30.6333313,33.68730592,27.60332634,24.71599395,27.6333313,19.34489765,45.32352843,38.76096865,23.6333313,41.77981105,9.326280864,29.88126681,19.6333313,4.281192914,38.3340716,27.65799788,18.6333313,11.4402662,10.69926433,32.49060741,14.6333313,-4.280801096,-1.49501322,8.068657372,12.6333313,1.087743932,9.251402933,24.94719895,8.633331299,0.791422045,4.571667692,11.47141192,4.633331299,-1.051436676,6.438098539,-11.76276481,2.633331299,-7.919733581,17.64139508,-9.738644468,0.633331299,6.915752102,13.62445416,1.736339855,-1.366668701,-1.374273213,0.64118964,0.106496484,-7.366668701,-14.87957283,-17.0239326,-25.3749258,-9.366668701,-20.04998524,-4.886975592,-19.02544827,-10.3666687,-9.831413173,4.495311879,-24.05761755,-10.3666687,-10.33320029,-7.586734908,-29.9591628,-13.3666687,-22.71384998,-20.2581638,-21.28916616,-15.3666687,-27.9720297,-5.380170497,-26.13076321,-15.3666687,-18.07547571,-28.14901322,-7.54360389,-15.3666687,-27.8216707,-10.50513206,-4.94489612,-17.3666687,-29.5515719,-4.599181316,-6.532764644,-19.3666687,-15.74061735,-1.367235481,-18.18428688,-20.3666687,-13.74639792,-0.734579565,-4.363981205,-23.3666687,-23.99542043,-29.64659076,-26.07044108,-26.3666687,-24.50385739,-39.21226144,-29.64617392,-28.3666687,-20.80678512,-23.5597799,-48.30772156,-31.3666687,-29.80773841,-35.81292848,-38.35400437,-31.3666687,-17.76268863,-12.55119033,-22.74925523,-33.3666687,-29.39168794,-49.10943583,-32.82816695,-35.3666687,-15.70152764,-45.27639813,-37.99251599,-42.3666687,-22.5789948,-30.68203446,-31.4543411,-47.3666687,-49.49748501,-39.18103585,-36.61878258,-51.3666687,-44.54854403,-33.48191305,-49.76179249,-53.3666687,-48.07750497,-53.67730608,-60.79869898,-57.3666687,-38.25744811,-37.49990558,-74.20962435,-62.3666687,-45.49570326,-47.92524922,-50.35776595,-65.3666687,-59.38261425,-49.71727941,-78.34819917,-71.3666687,-78.25126087,-80.26399352,-61.42014737,-75.3666687,-83.80562936,-78.53269869,-69.32470996,-77.3666687,-60.15115341,-72.61050739,-95.85964665,-82.3666687,-97.78681233,-80.8285034,-92.21708023,-85.3666687,-68.6556756,-92.33092549,-101.1645293,-88.3666687,-79.85176417,-93.69379219,-107.3712238,-93.3666687,-74.88682325,-80.89329216,-83.94082084,-98.3666687,-82.99185534,-92.85244916,-99.61449407,-101.3666687,-82.13480586,-82.10852181,-102.9599835,-104.3666687,-88.49009558,-118.207816,-115.2680019,-107.3666687,-113.0774736,-105.3216787,-102.5273423,-108.3666687,-121.3034709,-122.8894421,-120.4704177,-110.3666687,-130.275202,-120.3682352,-117.0776895,-112.3666687,-113.8530875,-105.8931805,-106.1991895,-112.3666687,-115.6157482,-97.08151938,-108.7430662,-114.3666687,-111.5045038,-113.3131116,-133.1302957,-117.3666687,-113.2282255,-109.2405345,-115.7036313,-119.3666687,-102.9694539,-121.0602206,-109.054583,-119.3666687,-123.0032269,-113.3363486,-121.6504035,-119.3666687,-110.6765727,-134.9628386,-112.6760028,-120.3666687,-115.7902254,-119.9399514,-103.2930966,-123.3666687,-116.8199204,-117.3589526,-130.2622522,-124.3666687,-110.2656775,-131.0213734,-125.3666687,-112.477425,-114.9133489,-113.9631332,-126.3666687,-117.3169196,-110.1762618,-123.0476267,-129.3666687,-120.2563543,-130.4357473,-120.0696243,-130.3666687,-133.0584901,-120.8121797,-131.3666687,-130.2553185,-131.3666687,-129.5656239,-131.3666687,-134.3127021,-134.4079884,22.6333313,28.12943724,24.26643855,38.33481048,18.6333313,23.44313647,5.314847385,19.28746973,14.6333313,10.38221385,30.55645369,33.21051442,14.6333313,33.35140512,14.32618014,3.510614661,16.6333313,9.891970701,17.78455394,30.90738601,18.6333313,21.5688818,14.00569978,37.69257656,19.6333313,18.74663085,35.31062821,3.627461983,20.6333313,11.34924105,24.42905623,7.225552964,20.6333313,8.177066169,12.46140367,32.71991682,16.6333313,29.87964736,30.92564812,34.84389896,12.6333313,18.74578211,31.89402471,0.538796012,6.633331299,16.86079493,6.105349973,-4.688294113,3.633331299,8.59941158,12.62377945,-14.43459137,2.633331299,22.56912443,10.86377566,10.60693492,3.633331299,-4.718673453,-9.311159911,4.080959592,5.633331299,10.00268668,-3.712000211,15.04195785,6.633331299,3.629728968,2.565891135,15.73778184,11.6333313,-6.995212426,-7.573154044,5.749236913,17.6333313,9.62685923,33.28813471,6.691872301,21.6333313,10.00817504,37.49183341,11.49336914,23.6333313,41.11722671,26.69277228,42.9293399,24.6333313,11.63291836,25.41018353,29.53730396,31.6333313,29.09145773,17.14529595,42.21853769,35.6333313,39.56147339,39.91887324,33.2061394,38.6333313,38.50389159,42.35972893,24.60094267,40.6333313,59.24870365,60.45821799,49.25775686,46.6333313,48.92596342,30.87210412,53.52744621,47.6333313,66.56953284,67.02634151,55.75040247,49.6333313,31.5300926,50.60810202,43.9454577,55.6333313,36.34061907,75.48923038,36.13124575,60.6333313,73.48191198,43.26677304,48.8754613,65.6333313,79.18324493,76.49460775,52.44028597,68.6333313,76.31583819,84.89961021,71.66703876,73.6333313,59.16642761,87.46256411,85.65688476,76.6333313,85.56821248,66.98695523,79.84932446,80.6333313,66.97194407,72.0975191,100.2333307,83.6333313,71.40495673,77.46032343,84.97150263,88.6333313,97.08220181,75.24923123,87.36784248,94.6333313,112.5669758,82.84174354,112.1657774,97.6333313,113.9585976,92.12124855,108.045166,101.6333313,86.8218944,107.8566839,120.202913,108.6333313,92.86139539,114.5734398,125.4483908,110.6333313,120.898186,108.1781464,128.0107858,111.6333313,128.0365709,128.8316447,99.68624243,112.6333313,117.0675029,130.5090244,106.9245151,113.6333313,117.5945747,114.7106553,98.14039645,113.6333313,98.66884203,132.9749039,98.20926496,113.6333313,110.0081995,107.0815077,116.614886,114.6333313,112.19052,130.215865,115.2538998,116.6333313,107.3228892,122.8318272,134.6057752,116.6333313,115.8623022,117.3661993,99.68314101,-125.3666687,-114.5086541,-125.3666687,-125.3666687,-126.0291139,-106.0936186,-125.3666687,-116.197531,-125.3666687,-111.5296637,-125.3666687,-132.3592378,-125.3666687,-110.7844471,-112.4678253,-125.3666687,-117.6094236,-125.3666687,-118.6323221,-124.3666687,-124.237735,-122.8132331,-125.9058982,-122.6572872,-124.3666687,-121.6878491,-130.8781192,-131.8832857,-123.3718491,-115.3666687,-122.6576764,-122.8797923,-117.9455026,-112.0184963,-115.3666687,-119.9542372,-109.9421548,-111.5153684,-110.3442214,-122.7406674,-121.5314194,-134.917019,-120.6059511,-129.8947807,-134.3666687,-115.5637388,-132.0801614,-133.3666687,-119.5241123,-125.743622,-133.3666687,-114.1008952,-131.3666687,-113.2783381,-133.8181748,-121.6535425,-127.3666687,-108.4996398,-111.2536771,-124.3666687,-119.1166023,-114.4105263,-122.3666687,-131.9053601,-109.2783685,-105.5046405,-122.3666687,-112.2579067,-111.0440481,-126.6376399,-120.3666687,-125.0856202,-103.409788,-115.2626373,-119.3666687,-104.9065286,-99.7125535,-117.3666687,-116.3328387,-125.3821591,-103.2199847,-115.3666687,-120.2750927,-113.2574809,-96.69835134,-115.3666687,-101.9974407,-111.9026024,-130.789929,-112.3666687,-98.94771821,-104.681987,-112.8669092,-110.3666687,-108.6044447,-96.69369402,-113.9676037,-109.3666687,-124.5036828,-117.2137042,-121.2046658,-107.3666687,-104.9610089,-117.6854971,-89.40230539,-103.3666687,-100.5580459,-120.2277907,-94.30913766,-97.3666687,-91.04201528,-78.20211469,-95.15544932,-93.3666687,-81.77033439,-87.0241036,-110.0463219,-89.3666687,-85.41455691,-92.64925409,-101.6487395,-85.3666687,-84.28352954,-84.96966072,-82.47330628,-81.3666687,-77.17078043,-98.10881697,-93.24668792,-78.3666687,-58.37606468,-68.8784393,-76.98891662,-74.3666687,-87.26897491,-76.35324445,-82.77428553,-69.3666687,-61.55889401,-58.98819625,-85.80860879,-63.3666687,-72.70797091,-63.38650606,-48.53668361,-63.3666687,-76.55524121,-59.69060767,-52.82573057,-60.3666687,-42.38717758,-68.3758247,-48.31029872,-55.3666687,-50.89986961,-43.73980562,-48.76670726,-53.3666687,-39.13115726,-73.08455738,-62.96446592,-51.3666687,-34.82187374,-40.55217485,-66.00888645,-50.3666687,-43.42088189,-47.37293302,-60.01363137,-49.3666687,-61.61160559,-46.27445623,-60.9840419,-48.3666687,-34.00460262,-41.23533741,-52.84690035,-46.3666687,-32.79228835,-35.31338008,-51.60894228,-43.3666687,-29.79892566,-49.28165314,-49.85239306,-41.3666687,-43.80026435,-37.74056727,-42.44028615,-39.3666687,-22.2303394,-58.914585,-43.67325559,-36.3666687,-50.89369773,-51.08851937,-47.18873909,-34.3666687,-28.78594602,-17.57248795,-16.43422927,-31.3666687,-26.20701778,-41.75329574,-50.37560751,-28.3666687,-19.06537265,-10.03302214,-16.48740103,-25.3666687,-36.04595373,-15.72408927,-9.391966657,-24.3666687,-14.82309509,-8.460922967,-33.00413535,-23.3666687,-37.76516594,-26.5689695,-28.80949122,-20.3666687,-12.40866082,-21.89561574,-21.74031224,-19.3666687,-19.00663561,-27.69218859,-31.78880733,-15.3666687,-32.59975281,-2.56631225,-14.88210966,-13.3666687,-28.28145925,-13.26753928,2.131206792,-9.366668701,-27.49020375,-7.677098033,-27.47073653,-3.366668701,-0.946835246,-12.30717375,6.232961702,-1.366668701,-16.89230218,-5.185124517,-0.906411856,2.633331299,17.29084339,-0.053444122,7.608236037,4.633331299,5.776890023,1.769256846,-5.127361719,6.633331299,2.652099734,-11.78803004,19.38672393,8.633331299,15.83363293,14.61577836,-7.344009933,12.6333313,-5.224325585,18.25867976,3.309414429,15.6333313,-0.826171418,18.27471569,25.05751359,17.6333313,36.69202077,31.11729361,29.67149386,20.6333313,15.74042439,36.71914025,25.5671738,27.6333313,26.00801791,35.81692213,34.4750434,33.6333313,22.33027161,46.31618757,43.38798948,36.6333313,46.99919753,22.52866332,27.55542371,39.6333313,55.44449713,55.47528165,50.1059805,42.6333313,43.78781024,25.86827601,40.93601306,44.6333313,32.72388373,34.37148828,28.97650765,47.6333313,58.91579044,63.24983624,40.95082985,52.6333313,55.1718735,62.76669813,41.09625964,54.6333313,36.63059395,62.28690026,51.14007952,58.6333313,45.89987237,55.39144421,41.16895165,63.6333313,77.19718849,81.58129222,70.26410872,68.6333313,53.91664836,70.90005448,57.20674755,72.6333313,86.15365801,71.01888331,75.18573349,74.6333313,78.32298659,64.64426165,84.49846493,76.6333313,60.14399401,82.89604966,73.8132914,80.6333313,70.0294931,98.19870569,82.76421171,84.6333313,84.77524438,89.44524993,72.04171715,89.6333313,91.84910437,76.65852087,86.2740089,92.6333313,93.54570014,90.57672233,101.2707346,96.6333313,100.4674643,96.08331355,85.24119004,100.6333313,83.67882714,105.8866071,119.0248458,102.6333313,112.6598778,null,103.0789271,106.6333313,122.0154499,103.5799233,90.82227294,112.6333313,93.19808183,110.1351971,126.25779,112.6333313,114.2310589,112.0880697,94.668251,114.6333313,103.6168168,108.1348708,131.90958,115.6333313,122.3210184,105.0756003,103.8184685,117.6333313,126.5716611,111.921765,112.5890501,122.6333313,120.5892044,122.6333313,134.4631809,125.91664,133.1015146,124.6333313,121.0600756,133.0240344,106.7891091,38.6333313,51.62247516,46.14750387,34.01840062,46.6333313,39.76323513,65.4181158,35.28236221,51.6333313,41.99099491,62.31576772,58.38690874,56.6333313,71.16098732,36.78477325,45.64962479,58.6333313,39.84865438,49.34996863,63.6225441,62.6333313,82.4902064,50.31621288,70.61621992,66.6333313,50.52121813,66.46908649,57.81271544,69.6333313,69.99778262,73.59428217,77.10752826,73.6333313,88.25616156,58.9160873,71.03641899,77.6333313,74.34604263,66.88622905,95.63848989,80.6333313,94.82477999,62.58111922,86.61172694,82.6333313,65.59507435,78.51750881,73.46537222,84.6333313,77.44915486,80.21419524,93.94866414,88.6333313,105.7242686,76.59414876,99.53084675,90.6333313,83.15571981,100.8818575,98.20922281,92.6333313,107.9318825,74.41298046,112.6249097,93.6333313,75.80230803,87.32502757,105.4827326,97.6333313,-117.0776895,-112.3666687,-113.8530875,-105.8931805,-106.1991895,-112.3666687,-115.6157482,-97.08151938,-108.7430662,-114.3666687,-111.5045038,-113.3131116,-133.1302957,-117.3666687,-113.2282255,-109.2405345,-115.7036313,-119.3666687,-102.9694539,-121.0602206,-109.054583,-119.3666687,-123.0032269,-113.3363486,-121.6504035,-119.3666687,-110.6765727,-134.9628386,-112.6760028,-120.3666687,-115.7902254,-119.9399514,-103.2930966,-123.3666687,-116.8199204,-117.3589526,-130.2622522,-124.3666687,-110.2656775,-131.0213734,-125.3666687,-112.477425,-114.9133489,-113.9631332,-126.3666687,-117.3169196,-110.1762618,-123.0476267,-129.3666687,-120.2563543,-130.4357473,-120.0696243,-130.3666687,-133.0584901,-120.8121797,-131.3666687,-130.2553185,-131.3666687,-129.5656239,-131.3666687,-134.3127021,-134.4079884,22.6333313,28.12943724,24.26643855,38.33481048,18.6333313,23.44313647,5.314847385,19.28746973,14.6333313,10.38221385,30.55645369,33.21051442,14.6333313,33.35140512,14.32618014,3.510614661,16.6333313,9.891970701,17.78455394,30.90738601,18.6333313,21.5688818,14.00569978,37.69257656,19.6333313,18.74663085,35.31062821,3.627461983,20.6333313,11.34924105,24.42905623,7.225552964,20.6333313,8.177066169,12.46140367,32.71991682,16.6333313,29.87964736,30.92564812,34.84389896,12.6333313,18.74578211,31.89402471,0.538796012,6.633331299,16.86079493,6.105349973,-4.688294113,3.633331299,8.59941158,12.62377945,-14.43459137,2.633331299,22.56912443,10.86377566,10.60693492,3.633331299,-4.718673453,-9.311159911,4.080959592,5.633331299,10.00268668,-3.712000211,15.04195785,6.633331299,3.629728968,2.565891135,15.73778184,11.6333313,-6.995212426,-7.573154044,5.749236913,17.6333313,9.62685923,33.28813471,6.691872301,21.6333313,10.00817504,37.49183341,11.49336914,23.6333313,41.11722671,26.69277228,42.9293399,24.6333313,11.63291836,25.41018353,29.53730396,31.6333313,29.09145773,17.14529595],\"y0\":\" \",\"yaxis\":\"y\",\"type\":\"box\"}],                        {\"template\":{\"data\":{\"bar\":[{\"error_x\":{\"color\":\"#2a3f5f\"},\"error_y\":{\"color\":\"#2a3f5f\"},\"marker\":{\"line\":{\"color\":\"#E5ECF6\",\"width\":0.5},\"pattern\":{\"fillmode\":\"overlay\",\"size\":10,\"solidity\":0.2}},\"type\":\"bar\"}],\"barpolar\":[{\"marker\":{\"line\":{\"color\":\"#E5ECF6\",\"width\":0.5},\"pattern\":{\"fillmode\":\"overlay\",\"size\":10,\"solidity\":0.2}},\"type\":\"barpolar\"}],\"carpet\":[{\"aaxis\":{\"endlinecolor\":\"#2a3f5f\",\"gridcolor\":\"white\",\"linecolor\":\"white\",\"minorgridcolor\":\"white\",\"startlinecolor\":\"#2a3f5f\"},\"baxis\":{\"endlinecolor\":\"#2a3f5f\",\"gridcolor\":\"white\",\"linecolor\":\"white\",\"minorgridcolor\":\"white\",\"startlinecolor\":\"#2a3f5f\"},\"type\":\"carpet\"}],\"choropleth\":[{\"colorbar\":{\"outlinewidth\":0,\"ticks\":\"\"},\"type\":\"choropleth\"}],\"contour\":[{\"colorbar\":{\"outlinewidth\":0,\"ticks\":\"\"},\"colorscale\":[[0.0,\"#0d0887\"],[0.1111111111111111,\"#46039f\"],[0.2222222222222222,\"#7201a8\"],[0.3333333333333333,\"#9c179e\"],[0.4444444444444444,\"#bd3786\"],[0.5555555555555556,\"#d8576b\"],[0.6666666666666666,\"#ed7953\"],[0.7777777777777778,\"#fb9f3a\"],[0.8888888888888888,\"#fdca26\"],[1.0,\"#f0f921\"]],\"type\":\"contour\"}],\"contourcarpet\":[{\"colorbar\":{\"outlinewidth\":0,\"ticks\":\"\"},\"type\":\"contourcarpet\"}],\"heatmap\":[{\"colorbar\":{\"outlinewidth\":0,\"ticks\":\"\"},\"colorscale\":[[0.0,\"#0d0887\"],[0.1111111111111111,\"#46039f\"],[0.2222222222222222,\"#7201a8\"],[0.3333333333333333,\"#9c179e\"],[0.4444444444444444,\"#bd3786\"],[0.5555555555555556,\"#d8576b\"],[0.6666666666666666,\"#ed7953\"],[0.7777777777777778,\"#fb9f3a\"],[0.8888888888888888,\"#fdca26\"],[1.0,\"#f0f921\"]],\"type\":\"heatmap\"}],\"heatmapgl\":[{\"colorbar\":{\"outlinewidth\":0,\"ticks\":\"\"},\"colorscale\":[[0.0,\"#0d0887\"],[0.1111111111111111,\"#46039f\"],[0.2222222222222222,\"#7201a8\"],[0.3333333333333333,\"#9c179e\"],[0.4444444444444444,\"#bd3786\"],[0.5555555555555556,\"#d8576b\"],[0.6666666666666666,\"#ed7953\"],[0.7777777777777778,\"#fb9f3a\"],[0.8888888888888888,\"#fdca26\"],[1.0,\"#f0f921\"]],\"type\":\"heatmapgl\"}],\"histogram\":[{\"marker\":{\"pattern\":{\"fillmode\":\"overlay\",\"size\":10,\"solidity\":0.2}},\"type\":\"histogram\"}],\"histogram2d\":[{\"colorbar\":{\"outlinewidth\":0,\"ticks\":\"\"},\"colorscale\":[[0.0,\"#0d0887\"],[0.1111111111111111,\"#46039f\"],[0.2222222222222222,\"#7201a8\"],[0.3333333333333333,\"#9c179e\"],[0.4444444444444444,\"#bd3786\"],[0.5555555555555556,\"#d8576b\"],[0.6666666666666666,\"#ed7953\"],[0.7777777777777778,\"#fb9f3a\"],[0.8888888888888888,\"#fdca26\"],[1.0,\"#f0f921\"]],\"type\":\"histogram2d\"}],\"histogram2dcontour\":[{\"colorbar\":{\"outlinewidth\":0,\"ticks\":\"\"},\"colorscale\":[[0.0,\"#0d0887\"],[0.1111111111111111,\"#46039f\"],[0.2222222222222222,\"#7201a8\"],[0.3333333333333333,\"#9c179e\"],[0.4444444444444444,\"#bd3786\"],[0.5555555555555556,\"#d8576b\"],[0.6666666666666666,\"#ed7953\"],[0.7777777777777778,\"#fb9f3a\"],[0.8888888888888888,\"#fdca26\"],[1.0,\"#f0f921\"]],\"type\":\"histogram2dcontour\"}],\"mesh3d\":[{\"colorbar\":{\"outlinewidth\":0,\"ticks\":\"\"},\"type\":\"mesh3d\"}],\"parcoords\":[{\"line\":{\"colorbar\":{\"outlinewidth\":0,\"ticks\":\"\"}},\"type\":\"parcoords\"}],\"pie\":[{\"automargin\":true,\"type\":\"pie\"}],\"scatter\":[{\"marker\":{\"colorbar\":{\"outlinewidth\":0,\"ticks\":\"\"}},\"type\":\"scatter\"}],\"scatter3d\":[{\"line\":{\"colorbar\":{\"outlinewidth\":0,\"ticks\":\"\"}},\"marker\":{\"colorbar\":{\"outlinewidth\":0,\"ticks\":\"\"}},\"type\":\"scatter3d\"}],\"scattercarpet\":[{\"marker\":{\"colorbar\":{\"outlinewidth\":0,\"ticks\":\"\"}},\"type\":\"scattercarpet\"}],\"scattergeo\":[{\"marker\":{\"colorbar\":{\"outlinewidth\":0,\"ticks\":\"\"}},\"type\":\"scattergeo\"}],\"scattergl\":[{\"marker\":{\"colorbar\":{\"outlinewidth\":0,\"ticks\":\"\"}},\"type\":\"scattergl\"}],\"scattermapbox\":[{\"marker\":{\"colorbar\":{\"outlinewidth\":0,\"ticks\":\"\"}},\"type\":\"scattermapbox\"}],\"scatterpolar\":[{\"marker\":{\"colorbar\":{\"outlinewidth\":0,\"ticks\":\"\"}},\"type\":\"scatterpolar\"}],\"scatterpolargl\":[{\"marker\":{\"colorbar\":{\"outlinewidth\":0,\"ticks\":\"\"}},\"type\":\"scatterpolargl\"}],\"scatterternary\":[{\"marker\":{\"colorbar\":{\"outlinewidth\":0,\"ticks\":\"\"}},\"type\":\"scatterternary\"}],\"surface\":[{\"colorbar\":{\"outlinewidth\":0,\"ticks\":\"\"},\"colorscale\":[[0.0,\"#0d0887\"],[0.1111111111111111,\"#46039f\"],[0.2222222222222222,\"#7201a8\"],[0.3333333333333333,\"#9c179e\"],[0.4444444444444444,\"#bd3786\"],[0.5555555555555556,\"#d8576b\"],[0.6666666666666666,\"#ed7953\"],[0.7777777777777778,\"#fb9f3a\"],[0.8888888888888888,\"#fdca26\"],[1.0,\"#f0f921\"]],\"type\":\"surface\"}],\"table\":[{\"cells\":{\"fill\":{\"color\":\"#EBF0F8\"},\"line\":{\"color\":\"white\"}},\"header\":{\"fill\":{\"color\":\"#C8D4E3\"},\"line\":{\"color\":\"white\"}},\"type\":\"table\"}]},\"layout\":{\"annotationdefaults\":{\"arrowcolor\":\"#2a3f5f\",\"arrowhead\":0,\"arrowwidth\":1},\"autotypenumbers\":\"strict\",\"coloraxis\":{\"colorbar\":{\"outlinewidth\":0,\"ticks\":\"\"}},\"colorscale\":{\"diverging\":[[0,\"#8e0152\"],[0.1,\"#c51b7d\"],[0.2,\"#de77ae\"],[0.3,\"#f1b6da\"],[0.4,\"#fde0ef\"],[0.5,\"#f7f7f7\"],[0.6,\"#e6f5d0\"],[0.7,\"#b8e186\"],[0.8,\"#7fbc41\"],[0.9,\"#4d9221\"],[1,\"#276419\"]],\"sequential\":[[0.0,\"#0d0887\"],[0.1111111111111111,\"#46039f\"],[0.2222222222222222,\"#7201a8\"],[0.3333333333333333,\"#9c179e\"],[0.4444444444444444,\"#bd3786\"],[0.5555555555555556,\"#d8576b\"],[0.6666666666666666,\"#ed7953\"],[0.7777777777777778,\"#fb9f3a\"],[0.8888888888888888,\"#fdca26\"],[1.0,\"#f0f921\"]],\"sequentialminus\":[[0.0,\"#0d0887\"],[0.1111111111111111,\"#46039f\"],[0.2222222222222222,\"#7201a8\"],[0.3333333333333333,\"#9c179e\"],[0.4444444444444444,\"#bd3786\"],[0.5555555555555556,\"#d8576b\"],[0.6666666666666666,\"#ed7953\"],[0.7777777777777778,\"#fb9f3a\"],[0.8888888888888888,\"#fdca26\"],[1.0,\"#f0f921\"]]},\"colorway\":[\"#636efa\",\"#EF553B\",\"#00cc96\",\"#ab63fa\",\"#FFA15A\",\"#19d3f3\",\"#FF6692\",\"#B6E880\",\"#FF97FF\",\"#FECB52\"],\"font\":{\"color\":\"#2a3f5f\"},\"geo\":{\"bgcolor\":\"white\",\"lakecolor\":\"white\",\"landcolor\":\"#E5ECF6\",\"showlakes\":true,\"showland\":true,\"subunitcolor\":\"white\"},\"hoverlabel\":{\"align\":\"left\"},\"hovermode\":\"closest\",\"mapbox\":{\"style\":\"light\"},\"paper_bgcolor\":\"white\",\"plot_bgcolor\":\"#E5ECF6\",\"polar\":{\"angularaxis\":{\"gridcolor\":\"white\",\"linecolor\":\"white\",\"ticks\":\"\"},\"bgcolor\":\"#E5ECF6\",\"radialaxis\":{\"gridcolor\":\"white\",\"linecolor\":\"white\",\"ticks\":\"\"}},\"scene\":{\"xaxis\":{\"backgroundcolor\":\"#E5ECF6\",\"gridcolor\":\"white\",\"gridwidth\":2,\"linecolor\":\"white\",\"showbackground\":true,\"ticks\":\"\",\"zerolinecolor\":\"white\"},\"yaxis\":{\"backgroundcolor\":\"#E5ECF6\",\"gridcolor\":\"white\",\"gridwidth\":2,\"linecolor\":\"white\",\"showbackground\":true,\"ticks\":\"\",\"zerolinecolor\":\"white\"},\"zaxis\":{\"backgroundcolor\":\"#E5ECF6\",\"gridcolor\":\"white\",\"gridwidth\":2,\"linecolor\":\"white\",\"showbackground\":true,\"ticks\":\"\",\"zerolinecolor\":\"white\"}},\"shapedefaults\":{\"line\":{\"color\":\"#2a3f5f\"}},\"ternary\":{\"aaxis\":{\"gridcolor\":\"white\",\"linecolor\":\"white\",\"ticks\":\"\"},\"baxis\":{\"gridcolor\":\"white\",\"linecolor\":\"white\",\"ticks\":\"\"},\"bgcolor\":\"#E5ECF6\",\"caxis\":{\"gridcolor\":\"white\",\"linecolor\":\"white\",\"ticks\":\"\"}},\"title\":{\"x\":0.05},\"xaxis\":{\"automargin\":true,\"gridcolor\":\"white\",\"linecolor\":\"white\",\"ticks\":\"\",\"title\":{\"standoff\":15},\"zerolinecolor\":\"white\",\"zerolinewidth\":2},\"yaxis\":{\"automargin\":true,\"gridcolor\":\"white\",\"linecolor\":\"white\",\"ticks\":\"\",\"title\":{\"standoff\":15},\"zerolinecolor\":\"white\",\"zerolinewidth\":2}}},\"xaxis\":{\"anchor\":\"y\",\"domain\":[0.0,1.0]},\"yaxis\":{\"anchor\":\"x\",\"domain\":[0.0,1.0],\"title\":{\"text\":\"input\"}},\"legend\":{\"tracegroupgap\":0},\"margin\":{\"t\":60},\"boxmode\":\"group\"},                        {\"responsive\": true}                    ).then(function(){\n",
              "                            \n",
              "var gd = document.getElementById('f45117b3-618c-4e7d-a5d0-800aaedd072a');\n",
              "var x = new MutationObserver(function (mutations, observer) {{\n",
              "        var display = window.getComputedStyle(gd).display;\n",
              "        if (!display || display === 'none') {{\n",
              "            console.log([gd, 'removed!']);\n",
              "            Plotly.purge(gd);\n",
              "            observer.disconnect();\n",
              "        }}\n",
              "}});\n",
              "\n",
              "// Listen for the removal of the full notebook cells\n",
              "var notebookContainer = gd.closest('#notebook-container');\n",
              "if (notebookContainer) {{\n",
              "    x.observe(notebookContainer, {childList: true});\n",
              "}}\n",
              "\n",
              "// Listen for the clearing of the current output cell\n",
              "var outputEl = gd.closest('.output');\n",
              "if (outputEl) {{\n",
              "    x.observe(outputEl, {childList: true});\n",
              "}}\n",
              "\n",
              "                        })                };                            </script>        </div>\n",
              "</body>\n",
              "</html>"
            ]
          },
          "metadata": {}
        }
      ]
    },
    {
      "cell_type": "markdown",
      "source": [
        "from the picture above it can be seen that there are no outliers in the independent variables of this dataset"
      ],
      "metadata": {
        "id": "RIopTc13w-fn"
      }
    },
    {
      "cell_type": "markdown",
      "source": [
        "#**Clean Dataset**\n",
        "This function is to clean the dataset of nan, Inf, and missing cells (for skewed datasets)"
      ],
      "metadata": {
        "id": "lPidWQL5xOOx"
      }
    },
    {
      "cell_type": "code",
      "source": [
        "def clean_dataset(df):\n",
        "    assert isinstance(df, pd.DataFrame), \"df needs to be a pd.DataFrame\"\n",
        "    df.dropna(inplace=True)\n",
        "    indices_to_keep = ~df.isin([np.nan, np.inf, -np.inf]).any(axis=1)\n",
        "    return df[indices_to_keep].astype(np.float64)"
      ],
      "metadata": {
        "id": "JiWsZGzAr1-q"
      },
      "execution_count": 152,
      "outputs": []
    },
    {
      "cell_type": "code",
      "source": [
        "data = clean_dataset(data)\n",
        "data"
      ],
      "metadata": {
        "colab": {
          "base_uri": "https://localhost:8080/",
          "height": 423
        },
        "id": "sOCC9XuZsG0a",
        "outputId": "3ebcf538-64a3-41c9-989b-3b3a917dc847"
      },
      "execution_count": 162,
      "outputs": [
        {
          "output_type": "execute_result",
          "data": {
            "text/plain": [
              "           input      output\n",
              "0    -122.740667 -130.572085\n",
              "1    -121.531419 -129.938929\n",
              "2    -134.917019 -130.141832\n",
              "3    -120.605951 -125.760932\n",
              "4    -129.894781 -112.785214\n",
              "...          ...         ...\n",
              "1692   25.410184  -76.380902\n",
              "1693   29.537304  -82.796934\n",
              "1694   31.633331  -87.000000\n",
              "1695   29.091458 -104.943052\n",
              "1696   17.145296 -101.726894\n",
              "\n",
              "[1696 rows x 2 columns]"
            ],
            "text/html": [
              "\n",
              "  <div id=\"df-ccf8fd35-87c3-42d3-b273-b50bf1d1a08f\">\n",
              "    <div class=\"colab-df-container\">\n",
              "      <div>\n",
              "<style scoped>\n",
              "    .dataframe tbody tr th:only-of-type {\n",
              "        vertical-align: middle;\n",
              "    }\n",
              "\n",
              "    .dataframe tbody tr th {\n",
              "        vertical-align: top;\n",
              "    }\n",
              "\n",
              "    .dataframe thead th {\n",
              "        text-align: right;\n",
              "    }\n",
              "</style>\n",
              "<table border=\"1\" class=\"dataframe\">\n",
              "  <thead>\n",
              "    <tr style=\"text-align: right;\">\n",
              "      <th></th>\n",
              "      <th>input</th>\n",
              "      <th>output</th>\n",
              "    </tr>\n",
              "  </thead>\n",
              "  <tbody>\n",
              "    <tr>\n",
              "      <th>0</th>\n",
              "      <td>-122.740667</td>\n",
              "      <td>-130.572085</td>\n",
              "    </tr>\n",
              "    <tr>\n",
              "      <th>1</th>\n",
              "      <td>-121.531419</td>\n",
              "      <td>-129.938929</td>\n",
              "    </tr>\n",
              "    <tr>\n",
              "      <th>2</th>\n",
              "      <td>-134.917019</td>\n",
              "      <td>-130.141832</td>\n",
              "    </tr>\n",
              "    <tr>\n",
              "      <th>3</th>\n",
              "      <td>-120.605951</td>\n",
              "      <td>-125.760932</td>\n",
              "    </tr>\n",
              "    <tr>\n",
              "      <th>4</th>\n",
              "      <td>-129.894781</td>\n",
              "      <td>-112.785214</td>\n",
              "    </tr>\n",
              "    <tr>\n",
              "      <th>...</th>\n",
              "      <td>...</td>\n",
              "      <td>...</td>\n",
              "    </tr>\n",
              "    <tr>\n",
              "      <th>1692</th>\n",
              "      <td>25.410184</td>\n",
              "      <td>-76.380902</td>\n",
              "    </tr>\n",
              "    <tr>\n",
              "      <th>1693</th>\n",
              "      <td>29.537304</td>\n",
              "      <td>-82.796934</td>\n",
              "    </tr>\n",
              "    <tr>\n",
              "      <th>1694</th>\n",
              "      <td>31.633331</td>\n",
              "      <td>-87.000000</td>\n",
              "    </tr>\n",
              "    <tr>\n",
              "      <th>1695</th>\n",
              "      <td>29.091458</td>\n",
              "      <td>-104.943052</td>\n",
              "    </tr>\n",
              "    <tr>\n",
              "      <th>1696</th>\n",
              "      <td>17.145296</td>\n",
              "      <td>-101.726894</td>\n",
              "    </tr>\n",
              "  </tbody>\n",
              "</table>\n",
              "<p>1696 rows × 2 columns</p>\n",
              "</div>\n",
              "      <button class=\"colab-df-convert\" onclick=\"convertToInteractive('df-ccf8fd35-87c3-42d3-b273-b50bf1d1a08f')\"\n",
              "              title=\"Convert this dataframe to an interactive table.\"\n",
              "              style=\"display:none;\">\n",
              "        \n",
              "  <svg xmlns=\"http://www.w3.org/2000/svg\" height=\"24px\"viewBox=\"0 0 24 24\"\n",
              "       width=\"24px\">\n",
              "    <path d=\"M0 0h24v24H0V0z\" fill=\"none\"/>\n",
              "    <path d=\"M18.56 5.44l.94 2.06.94-2.06 2.06-.94-2.06-.94-.94-2.06-.94 2.06-2.06.94zm-11 1L8.5 8.5l.94-2.06 2.06-.94-2.06-.94L8.5 2.5l-.94 2.06-2.06.94zm10 10l.94 2.06.94-2.06 2.06-.94-2.06-.94-.94-2.06-.94 2.06-2.06.94z\"/><path d=\"M17.41 7.96l-1.37-1.37c-.4-.4-.92-.59-1.43-.59-.52 0-1.04.2-1.43.59L10.3 9.45l-7.72 7.72c-.78.78-.78 2.05 0 2.83L4 21.41c.39.39.9.59 1.41.59.51 0 1.02-.2 1.41-.59l7.78-7.78 2.81-2.81c.8-.78.8-2.07 0-2.86zM5.41 20L4 18.59l7.72-7.72 1.47 1.35L5.41 20z\"/>\n",
              "  </svg>\n",
              "      </button>\n",
              "      \n",
              "  <style>\n",
              "    .colab-df-container {\n",
              "      display:flex;\n",
              "      flex-wrap:wrap;\n",
              "      gap: 12px;\n",
              "    }\n",
              "\n",
              "    .colab-df-convert {\n",
              "      background-color: #E8F0FE;\n",
              "      border: none;\n",
              "      border-radius: 50%;\n",
              "      cursor: pointer;\n",
              "      display: none;\n",
              "      fill: #1967D2;\n",
              "      height: 32px;\n",
              "      padding: 0 0 0 0;\n",
              "      width: 32px;\n",
              "    }\n",
              "\n",
              "    .colab-df-convert:hover {\n",
              "      background-color: #E2EBFA;\n",
              "      box-shadow: 0px 1px 2px rgba(60, 64, 67, 0.3), 0px 1px 3px 1px rgba(60, 64, 67, 0.15);\n",
              "      fill: #174EA6;\n",
              "    }\n",
              "\n",
              "    [theme=dark] .colab-df-convert {\n",
              "      background-color: #3B4455;\n",
              "      fill: #D2E3FC;\n",
              "    }\n",
              "\n",
              "    [theme=dark] .colab-df-convert:hover {\n",
              "      background-color: #434B5C;\n",
              "      box-shadow: 0px 1px 3px 1px rgba(0, 0, 0, 0.15);\n",
              "      filter: drop-shadow(0px 1px 2px rgba(0, 0, 0, 0.3));\n",
              "      fill: #FFFFFF;\n",
              "    }\n",
              "  </style>\n",
              "\n",
              "      <script>\n",
              "        const buttonEl =\n",
              "          document.querySelector('#df-ccf8fd35-87c3-42d3-b273-b50bf1d1a08f button.colab-df-convert');\n",
              "        buttonEl.style.display =\n",
              "          google.colab.kernel.accessAllowed ? 'block' : 'none';\n",
              "\n",
              "        async function convertToInteractive(key) {\n",
              "          const element = document.querySelector('#df-ccf8fd35-87c3-42d3-b273-b50bf1d1a08f');\n",
              "          const dataTable =\n",
              "            await google.colab.kernel.invokeFunction('convertToInteractive',\n",
              "                                                     [key], {});\n",
              "          if (!dataTable) return;\n",
              "\n",
              "          const docLinkHtml = 'Like what you see? Visit the ' +\n",
              "            '<a target=\"_blank\" href=https://colab.research.google.com/notebooks/data_table.ipynb>data table notebook</a>'\n",
              "            + ' to learn more about interactive tables.';\n",
              "          element.innerHTML = '';\n",
              "          dataTable['output_type'] = 'display_data';\n",
              "          await google.colab.output.renderOutput(dataTable, element);\n",
              "          const docLink = document.createElement('div');\n",
              "          docLink.innerHTML = docLinkHtml;\n",
              "          element.appendChild(docLink);\n",
              "        }\n",
              "      </script>\n",
              "    </div>\n",
              "  </div>\n",
              "  "
            ]
          },
          "metadata": {},
          "execution_count": 162
        }
      ]
    },
    {
      "cell_type": "markdown",
      "source": [
        "#**Define independent variable and dependent variable**\n",
        "In this step we should rehape the variabel independent because the dimension should be (-1,1)"
      ],
      "metadata": {
        "id": "eNTCd_fcxhQC"
      }
    },
    {
      "cell_type": "code",
      "source": [
        "#Mendefinisikan variabel X dan Y\n",
        "X=np.array(data['input']).reshape((-1,1))\n",
        "Y=np.array(data['output'])"
      ],
      "metadata": {
        "id": "01xLX4lIqwwE"
      },
      "execution_count": 154,
      "outputs": []
    },
    {
      "cell_type": "markdown",
      "source": [
        "##**Split Dataset into training dataset and testing dataset**\n",
        "In this step we use split ratio 80:20"
      ],
      "metadata": {
        "id": "nBahS0AUx8g2"
      }
    },
    {
      "cell_type": "code",
      "source": [
        "X_train, X_test, y_train, y_test = train_test_split(X, y, test_size=0.2, random_state=42)"
      ],
      "metadata": {
        "id": "cc7-X9tnjtrG"
      },
      "execution_count": 155,
      "outputs": []
    },
    {
      "cell_type": "markdown",
      "source": [
        "#**Machine Learning Model**\n",
        "We will use two models Gradient Boosting Regressor and Linear Regression\n",
        "\n",
        "- The Gradient Boosting Regressor as our Base Model.GB builds an additive model in a forward stage-wise fashion; it allows for the optimization of arbitrary differentiable loss functions. In each stage a regression tree is fit on the negative gradient of the given loss function.\n",
        "- Linear regression is an approach to modeling the relationship between a dependent variable and one or more independent variables"
      ],
      "metadata": {
        "id": "Nvqk-AMTyS9I"
      }
    },
    {
      "cell_type": "markdown",
      "source": [
        "###**Gradient Boosting Regressor**"
      ],
      "metadata": {
        "id": "EBxDTL0izQvx"
      }
    },
    {
      "cell_type": "code",
      "source": [
        "#define  our  GB model\n",
        "GBR = GradientBoostingRegressor(n_estimators=3000, learning_rate=0.05,\n",
        "                                   max_depth=4, max_features='sqrt',\n",
        "                                   min_samples_leaf=15, min_samples_split=10, \n",
        "                                   loss='huber', random_state =5)"
      ],
      "metadata": {
        "id": "ko1nG57LpVRo"
      },
      "execution_count": 156,
      "outputs": []
    },
    {
      "cell_type": "code",
      "source": [
        "#fitting he model on the train set\n",
        "GBR.fit(X_train,y_train)"
      ],
      "metadata": {
        "colab": {
          "base_uri": "https://localhost:8080/"
        },
        "id": "BT5a21E6p2lH",
        "outputId": "4f1b5bf8-46ea-4fd5-876a-815a1571ba57"
      },
      "execution_count": 157,
      "outputs": [
        {
          "output_type": "execute_result",
          "data": {
            "text/plain": [
              "GradientBoostingRegressor(learning_rate=0.05, loss='huber', max_depth=4,\n",
              "                          max_features='sqrt', min_samples_leaf=15,\n",
              "                          min_samples_split=10, n_estimators=3000,\n",
              "                          random_state=5)"
            ]
          },
          "metadata": {},
          "execution_count": 157
        }
      ]
    },
    {
      "cell_type": "code",
      "source": [
        "#Cross Validation Error\n",
        "rmse_cv(GBR).mean()"
      ],
      "metadata": {
        "colab": {
          "base_uri": "https://localhost:8080/"
        },
        "id": "oGkK9jPys5Hf",
        "outputId": "c5c036f9-a9cb-427d-e542-22635dc66e75"
      },
      "execution_count": 158,
      "outputs": [
        {
          "output_type": "execute_result",
          "data": {
            "text/plain": [
              "33.59561555596118"
            ]
          },
          "metadata": {},
          "execution_count": 158
        }
      ]
    },
    {
      "cell_type": "markdown",
      "source": [
        "###**Model Validation**\n",
        "For model validation we use R Squared, RMSE and MAE"
      ],
      "metadata": {
        "id": "tEpQhnwczAXO"
      }
    },
    {
      "cell_type": "code",
      "source": [
        "# R squared, RMSE and Mean Absolute Error obtained by using actual and predicted values from Validate set\n",
        "print('Validation R^2: %.5f'  % r2_score(y_test,GBR.predict(X_test)))\n",
        "print('Validation RMSE: %.5f'   % mean_squared_error(y_test,GBR.predict(X_test)))\n",
        "print('Validation Mean Absolute Error: %.5f'   % mean_absolute_error(y_test,GBR.predict(X_test)))"
      ],
      "metadata": {
        "colab": {
          "base_uri": "https://localhost:8080/"
        },
        "id": "9uY33ud3tGoK",
        "outputId": "18174ce9-28b8-43a3-f7d6-fd2ee40061a1"
      },
      "execution_count": 159,
      "outputs": [
        {
          "output_type": "stream",
          "name": "stdout",
          "text": [
            "Validation R^2: 0.65025\n",
            "Validation RMSE: 1606.11858\n",
            "Validation Mean Absolute Error: 19.87163\n"
          ]
        }
      ]
    },
    {
      "cell_type": "markdown",
      "source": [
        "###**Linear Regression**"
      ],
      "metadata": {
        "id": "6IBPldK-zUZV"
      }
    },
    {
      "cell_type": "code",
      "source": [
        "regr = linear_model.LinearRegression()\n",
        "regr.fit(X_train,y_train)"
      ],
      "metadata": {
        "colab": {
          "base_uri": "https://localhost:8080/"
        },
        "id": "VZPYAh3emiYm",
        "outputId": "ffbd1c02-5bd2-4c5a-9357-7499bde0bba3"
      },
      "execution_count": 160,
      "outputs": [
        {
          "output_type": "execute_result",
          "data": {
            "text/plain": [
              "LinearRegression()"
            ]
          },
          "metadata": {},
          "execution_count": 160
        }
      ]
    },
    {
      "cell_type": "code",
      "source": [
        "#Cross Validation Error\n",
        "rmse_cv(regr).mean()"
      ],
      "metadata": {
        "colab": {
          "base_uri": "https://localhost:8080/"
        },
        "id": "3Fp40BuYzt2y",
        "outputId": "907ea870-0619-415f-c545-077c7ba99f4a"
      },
      "execution_count": 163,
      "outputs": [
        {
          "output_type": "execute_result",
          "data": {
            "text/plain": [
              "54.94287333992152"
            ]
          },
          "metadata": {},
          "execution_count": 163
        }
      ]
    },
    {
      "cell_type": "markdown",
      "source": [
        "###**Model Validation**\n",
        "For model validation we use R Squared, RMSE and MAE"
      ],
      "metadata": {
        "id": "1SGJePbszYbH"
      }
    },
    {
      "cell_type": "code",
      "source": [
        "# R squared, RMSE and Mean Absolute Error obtained by using actual and predicted values from Validate set\n",
        "print('Validation R^2: %.5f'  % r2_score(y_test,regr.predict(X_test)))\n",
        "print('Validation RMSE: %.5f'   % mean_squared_error(y_test,regr.predict(X_test)))\n",
        "print('Validation Mean Absolute Error: %.5f'   % mean_absolute_error(y_test,regr.predict(X_test)))"
      ],
      "metadata": {
        "colab": {
          "base_uri": "https://localhost:8080/"
        },
        "id": "Bu6mWrNdnC47",
        "outputId": "b009008e-80f7-488e-f214-e09ff7e395a8"
      },
      "execution_count": 161,
      "outputs": [
        {
          "output_type": "stream",
          "name": "stdout",
          "text": [
            "Validation R^2: 0.15650\n",
            "Validation RMSE: 3873.53289\n",
            "Validation Mean Absolute Error: 46.16647\n"
          ]
        }
      ]
    },
    {
      "cell_type": "markdown",
      "source": [
        "The Best Model here is the Gradient Boosting Regressor which manages to produce a minimum cross validation error and highest R- squared and minimal RMSE and Mean Absolute Error."
      ],
      "metadata": {
        "id": "KeJLwiRJzi8c"
      }
    }
  ]
}